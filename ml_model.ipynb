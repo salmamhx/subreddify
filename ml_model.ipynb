{
 "cells": [
  {
   "cell_type": "code",
   "execution_count": 149,
   "metadata": {},
   "outputs": [],
   "source": [
    "import os\n",
    "import numpy as np\n",
    "import pandas as pd\n",
    "import matplotlib.pyplot as plt\n",
    "import tensorflow as tf\n",
    "from keras.preprocessing.text import Tokenizer\n",
    "from keras.preprocessing.sequence import pad_sequences\n",
    "from keras.layers import Dense, Input, GlobalMaxPooling1D\n",
    "from keras.layers import Conv1D, MaxPooling1D, Embedding\n",
    "from keras.models import Model\n",
    "from sklearn.metrics import roc_auc_score"
   ]
  },
  {
   "cell_type": "code",
   "execution_count": 150,
   "metadata": {},
   "outputs": [],
   "source": [
    "MAX_SEQUENCE_LENGTH= 30\n",
    "MAX_VOCAB_SIZE =20000\n",
    "EMBEDDING_DIM=100\n",
    "VALIDATION_SPLIT =0.2\n",
    "BATCH_SIZE =200\n",
    "EPOCHS =10"
   ]
  },
  {
   "cell_type": "code",
   "execution_count": 151,
   "metadata": {},
   "outputs": [],
   "source": [
    "word2vec = {}\n",
    "with open (os.path.join(\"glove.6B.100d.txt\"), encoding='utf-8') as f:\n",
    "    for line in f:\n",
    "        values=line.split()\n",
    "        word=values[0]\n",
    "        vec = np.asarray(values[1:], dtype=\"float32\")\n",
    "        word2vec[word] =vec    "
   ]
  },
  {
   "cell_type": "markdown",
   "metadata": {},
   "source": [
    "Set up the Data"
   ]
  },
  {
   "cell_type": "code",
   "execution_count": 143,
   "metadata": {},
   "outputs": [
    {
     "data": {
      "text/html": [
       "<div>\n",
       "<style scoped>\n",
       "    .dataframe tbody tr th:only-of-type {\n",
       "        vertical-align: middle;\n",
       "    }\n",
       "\n",
       "    .dataframe tbody tr th {\n",
       "        vertical-align: top;\n",
       "    }\n",
       "\n",
       "    .dataframe thead th {\n",
       "        text-align: right;\n",
       "    }\n",
       "</style>\n",
       "<table border=\"1\" class=\"dataframe\">\n",
       "  <thead>\n",
       "    <tr style=\"text-align: right;\">\n",
       "      <th></th>\n",
       "      <th>Unnamed: 0</th>\n",
       "      <th>amitheasshole</th>\n",
       "      <th>todayilearned</th>\n",
       "      <th>explainlikeimfive</th>\n",
       "      <th>news</th>\n",
       "      <th>askreddit</th>\n",
       "      <th>cornell</th>\n",
       "    </tr>\n",
       "  </thead>\n",
       "  <tbody>\n",
       "    <tr>\n",
       "      <th>0</th>\n",
       "      <td>0</td>\n",
       "      <td>AITA for telling my wife the lock on my daught...</td>\n",
       "      <td>TIL that slaveholders in the US knew that ensl...</td>\n",
       "      <td>ELI5:How after 5000 years of humanity survivin...</td>\n",
       "      <td>Joe Biden elected president of the United States</td>\n",
       "      <td>People who haven't pooped in 2019 yet, why are...</td>\n",
       "      <td>Cornell Alert: Anyone know whats going on?</td>\n",
       "    </tr>\n",
       "    <tr>\n",
       "      <th>1</th>\n",
       "      <td>1</td>\n",
       "      <td>META: This sub is moving towards a value syste...</td>\n",
       "      <td>TIL During an interview with Stephen Hawking, ...</td>\n",
       "      <td>We call upon Reddit to take action against the...</td>\n",
       "      <td>Chauvin found guilty of murder, manslaughter i...</td>\n",
       "      <td>How would you feel about Reddit adding 3 NSFW ...</td>\n",
       "      <td>I threw up in my mask and had to continue taki...</td>\n",
       "    </tr>\n",
       "    <tr>\n",
       "      <th>2</th>\n",
       "      <td>2</td>\n",
       "      <td>UPDATE, AITA for despising my mentally handica...</td>\n",
       "      <td>TIL Genghis Khan would marry off a daughter to...</td>\n",
       "      <td>ELI5: How did we get to the point where laptop...</td>\n",
       "      <td>President Donald Trump says he has tested posi...</td>\n",
       "      <td>Would you watch a show where a billionaire CEO...</td>\n",
       "      <td>this professor gets it</td>\n",
       "    </tr>\n",
       "    <tr>\n",
       "      <th>3</th>\n",
       "      <td>3</td>\n",
       "      <td>AITA For suing my girlfriend after she had my ...</td>\n",
       "      <td>TIL the FBI has struggled to hire hackers beca...</td>\n",
       "      <td>ELI5: Stock Market Megathread</td>\n",
       "      <td>Blizzard Employees Staged a Walkout After the ...</td>\n",
       "      <td>What if God came down one day and said \"It's p...</td>\n",
       "      <td>An actual summary of the 97 page report</td>\n",
       "    </tr>\n",
       "    <tr>\n",
       "      <th>4</th>\n",
       "      <td>4</td>\n",
       "      <td>UPDATE: AITA for wanting to go to the funeral ...</td>\n",
       "      <td>TIL After Col. Shaw died in battle, Confederat...</td>\n",
       "      <td>ELI5: So how does the the human brain ignore t...</td>\n",
       "      <td>Trump has left the White House for the last ti...</td>\n",
       "      <td>How would you feel about a feature where if so...</td>\n",
       "      <td>I am a New Bus!</td>\n",
       "    </tr>\n",
       "  </tbody>\n",
       "</table>\n",
       "</div>"
      ],
      "text/plain": [
       "   Unnamed: 0                                      amitheasshole  \\\n",
       "0           0  AITA for telling my wife the lock on my daught...   \n",
       "1           1  META: This sub is moving towards a value syste...   \n",
       "2           2  UPDATE, AITA for despising my mentally handica...   \n",
       "3           3  AITA For suing my girlfriend after she had my ...   \n",
       "4           4  UPDATE: AITA for wanting to go to the funeral ...   \n",
       "\n",
       "                                       todayilearned  \\\n",
       "0  TIL that slaveholders in the US knew that ensl...   \n",
       "1  TIL During an interview with Stephen Hawking, ...   \n",
       "2  TIL Genghis Khan would marry off a daughter to...   \n",
       "3  TIL the FBI has struggled to hire hackers beca...   \n",
       "4  TIL After Col. Shaw died in battle, Confederat...   \n",
       "\n",
       "                                   explainlikeimfive  \\\n",
       "0  ELI5:How after 5000 years of humanity survivin...   \n",
       "1  We call upon Reddit to take action against the...   \n",
       "2  ELI5: How did we get to the point where laptop...   \n",
       "3                      ELI5: Stock Market Megathread   \n",
       "4  ELI5: So how does the the human brain ignore t...   \n",
       "\n",
       "                                                news  \\\n",
       "0   Joe Biden elected president of the United States   \n",
       "1  Chauvin found guilty of murder, manslaughter i...   \n",
       "2  President Donald Trump says he has tested posi...   \n",
       "3  Blizzard Employees Staged a Walkout After the ...   \n",
       "4  Trump has left the White House for the last ti...   \n",
       "\n",
       "                                           askreddit  \\\n",
       "0  People who haven't pooped in 2019 yet, why are...   \n",
       "1  How would you feel about Reddit adding 3 NSFW ...   \n",
       "2  Would you watch a show where a billionaire CEO...   \n",
       "3  What if God came down one day and said \"It's p...   \n",
       "4  How would you feel about a feature where if so...   \n",
       "\n",
       "                                             cornell  \n",
       "0         Cornell Alert: Anyone know whats going on?  \n",
       "1  I threw up in my mask and had to continue taki...  \n",
       "2                             this professor gets it  \n",
       "3            An actual summary of the 97 page report  \n",
       "4                                    I am a New Bus!  "
      ]
     },
     "execution_count": 143,
     "metadata": {},
     "output_type": "execute_result"
    }
   ],
   "source": [
    "df = pd.read_csv(\"data/curated_extreme_data.csv\")\n",
    "df.head()"
   ]
  },
  {
   "cell_type": "code",
   "execution_count": 154,
   "metadata": {},
   "outputs": [
    {
     "data": {
      "text/html": [
       "<div>\n",
       "<style scoped>\n",
       "    .dataframe tbody tr th:only-of-type {\n",
       "        vertical-align: middle;\n",
       "    }\n",
       "\n",
       "    .dataframe tbody tr th {\n",
       "        vertical-align: top;\n",
       "    }\n",
       "\n",
       "    .dataframe thead th {\n",
       "        text-align: right;\n",
       "    }\n",
       "</style>\n",
       "<table border=\"1\" class=\"dataframe\">\n",
       "  <thead>\n",
       "    <tr style=\"text-align: right;\">\n",
       "      <th></th>\n",
       "      <th>title</th>\n",
       "      <th>amitheasshole</th>\n",
       "      <th>todayilearned</th>\n",
       "      <th>explainlikeimfive</th>\n",
       "      <th>news</th>\n",
       "      <th>askreddit</th>\n",
       "      <th>cornell</th>\n",
       "    </tr>\n",
       "  </thead>\n",
       "  <tbody>\n",
       "    <tr>\n",
       "      <th>0</th>\n",
       "      <td>AITA for telling my wife the lock on my daught...</td>\n",
       "      <td>1.0</td>\n",
       "      <td>0.0</td>\n",
       "      <td>0.0</td>\n",
       "      <td>0.0</td>\n",
       "      <td>0.0</td>\n",
       "      <td>0.0</td>\n",
       "    </tr>\n",
       "    <tr>\n",
       "      <th>1</th>\n",
       "      <td>META: This sub is moving towards a value syste...</td>\n",
       "      <td>1.0</td>\n",
       "      <td>0.0</td>\n",
       "      <td>0.0</td>\n",
       "      <td>0.0</td>\n",
       "      <td>0.0</td>\n",
       "      <td>0.0</td>\n",
       "    </tr>\n",
       "    <tr>\n",
       "      <th>2</th>\n",
       "      <td>UPDATE, AITA for despising my mentally handica...</td>\n",
       "      <td>1.0</td>\n",
       "      <td>0.0</td>\n",
       "      <td>0.0</td>\n",
       "      <td>0.0</td>\n",
       "      <td>0.0</td>\n",
       "      <td>0.0</td>\n",
       "    </tr>\n",
       "    <tr>\n",
       "      <th>3</th>\n",
       "      <td>AITA For suing my girlfriend after she had my ...</td>\n",
       "      <td>1.0</td>\n",
       "      <td>0.0</td>\n",
       "      <td>0.0</td>\n",
       "      <td>0.0</td>\n",
       "      <td>0.0</td>\n",
       "      <td>0.0</td>\n",
       "    </tr>\n",
       "    <tr>\n",
       "      <th>4</th>\n",
       "      <td>UPDATE: AITA for wanting to go to the funeral ...</td>\n",
       "      <td>1.0</td>\n",
       "      <td>0.0</td>\n",
       "      <td>0.0</td>\n",
       "      <td>0.0</td>\n",
       "      <td>0.0</td>\n",
       "      <td>0.0</td>\n",
       "    </tr>\n",
       "  </tbody>\n",
       "</table>\n",
       "</div>"
      ],
      "text/plain": [
       "                                               title  amitheasshole  \\\n",
       "0  AITA for telling my wife the lock on my daught...            1.0   \n",
       "1  META: This sub is moving towards a value syste...            1.0   \n",
       "2  UPDATE, AITA for despising my mentally handica...            1.0   \n",
       "3  AITA For suing my girlfriend after she had my ...            1.0   \n",
       "4  UPDATE: AITA for wanting to go to the funeral ...            1.0   \n",
       "\n",
       "   todayilearned  explainlikeimfive  news  askreddit  cornell  \n",
       "0            0.0                0.0   0.0        0.0      0.0  \n",
       "1            0.0                0.0   0.0        0.0      0.0  \n",
       "2            0.0                0.0   0.0        0.0      0.0  \n",
       "3            0.0                0.0   0.0        0.0      0.0  \n",
       "4            0.0                0.0   0.0        0.0      0.0  "
      ]
     },
     "execution_count": 154,
     "metadata": {},
     "output_type": "execute_result"
    }
   ],
   "source": [
    "train = pd.DataFrame()\n",
    "train['title'] = []\n",
    "for i in df.columns[1:]:\n",
    "    train[i] = []\n",
    "\n",
    "for label in df.columns[1:]:\n",
    "    for sentence in df[label]:\n",
    "        train = train.append({'title': sentence, label:1},ignore_index=True)\n",
    "        train = train.fillna(0)\n",
    "\n",
    "train.head()\n"
   ]
  },
  {
   "cell_type": "code",
   "execution_count": 163,
   "metadata": {},
   "outputs": [],
   "source": [
    "possible_labels = ['amitheasshole','todayilearned','explainlikeimfive','news','askreddit','cornell']"
   ]
  },
  {
   "cell_type": "markdown",
   "metadata": {},
   "source": [
    "Preprocessing and Tokenizing"
   ]
  },
  {
   "cell_type": "code",
   "execution_count": 170,
   "metadata": {},
   "outputs": [],
   "source": [
    "from keras.preprocessing.text import Tokenizer\n",
    "\n",
    "sentences = train[\"title\"].fillna(\"NO_TITLE_EMPTY\").values\n",
    "sentences = [item for item in sentences if not isinstance(item, int)]\n",
    "targets = train[possible_labels].values\n",
    "\n",
    "tokenizer= Tokenizer(num_words=MAX_VOCAB_SIZE)\n",
    "tokenizer.fit_on_texts(sentences)\n",
    "sequences = tokenizer.texts_to_sequences(sentences)\n",
    "#sequences\n",
    "#tokenizer.word_index\n",
    "data = pad_sequences(sequences, maxlen=MAX_SEQUENCE_LENGTH)"
   ]
  },
  {
   "cell_type": "markdown",
   "metadata": {},
   "source": [
    "Preprocessing the Data Text"
   ]
  },
  {
   "cell_type": "code",
   "execution_count": 171,
   "metadata": {},
   "outputs": [
    {
     "name": "stdout",
     "output_type": "stream",
     "text": [
      "max sequence length: 62\n",
      "min sequence length: 0\n",
      "median sequence length: 15\n",
      "max word index: 14263\n",
      "Found 14263 unique tokens.\n"
     ]
    }
   ],
   "source": [
    "print(\"max sequence length:\", max(len(s) for s in sequences))\n",
    "print(\"min sequence length:\", min(len(s) for s in sequences))\n",
    "s = sorted(len(s) for s in sequences)\n",
    "print(\"median sequence length:\", s[len(s) // 2])\n",
    "\n",
    "print(\"max word index:\", max(max(seq) for seq in sequences if len(seq) > 0))\n",
    "\n",
    "\n",
    "# get word -> integer mapping\n",
    "word2idx = tokenizer.word_index\n",
    "print('Found %s unique tokens.' % len(word2idx))"
   ]
  },
  {
   "cell_type": "code",
   "execution_count": 172,
   "metadata": {},
   "outputs": [],
   "source": [
    "num_words = min(MAX_VOCAB_SIZE, len(word2idx) + 1)\n",
    "embedding_matrix = np.zeros((num_words, EMBEDDING_DIM))\n",
    "\n",
    "for word, i in word2idx.items():\n",
    "  if i < MAX_VOCAB_SIZE:\n",
    "    embedding_vector = word2vec.get(word)\n",
    "    if embedding_vector is not None:\n",
    "      # words not found in embedding index will be all zeros.\n",
    "      embedding_matrix[i] = embedding_vector"
   ]
  },
  {
   "cell_type": "code",
   "execution_count": 173,
   "metadata": {},
   "outputs": [],
   "source": [
    "embedding_layer = Embedding(\n",
    "    num_words,\n",
    "    EMBEDDING_DIM,\n",
    "    weights=[embedding_matrix],\n",
    "    input_length=MAX_SEQUENCE_LENGTH,\n",
    "    trainable=False\n",
    ")"
   ]
  },
  {
   "cell_type": "code",
   "execution_count": 174,
   "metadata": {},
   "outputs": [],
   "source": [
    "input_ = Input(shape=(MAX_SEQUENCE_LENGTH,)) #Dimensions\n",
    "\n",
    "x=embedding_layer(input_)\n",
    "\n",
    "x=Conv1D(200,2,activation=\"relu\")(x)\n",
    "x=MaxPooling1D(2)(x)\n",
    "\n",
    "x=Conv1D(200,2,activation=\"relu\")(x)\n",
    "x=MaxPooling1D(2)(x)\n",
    "\n",
    "x=Conv1D(200,2,activation=\"relu\")(x)\n",
    "x=GlobalMaxPooling1D()(x)\n",
    "\n",
    "x=Dense(200,activation=\"relu\")(x)\n",
    "\n",
    "output=Dense(len(possible_labels), activation=\"sigmoid\")(x)"
   ]
  },
  {
   "cell_type": "code",
   "execution_count": 175,
   "metadata": {},
   "outputs": [],
   "source": [
    "model = Model(input_, output)\n",
    "model.compile(\n",
    "  loss='binary_crossentropy',\n",
    "  optimizer='rmsprop',\n",
    "  metrics=['accuracy']\n",
    ")"
   ]
  },
  {
   "cell_type": "markdown",
   "metadata": {},
   "source": [
    "## Train the Model"
   ]
  },
  {
   "cell_type": "code",
   "execution_count": 176,
   "metadata": {},
   "outputs": [
    {
     "name": "stdout",
     "output_type": "stream",
     "text": [
      "Epoch 1/10\n",
      "24/24 [==============================] - 3s 74ms/step - loss: 0.3289 - accuracy: 0.5695 - val_loss: 0.7822 - val_accuracy: 0.1595\n",
      "Epoch 2/10\n",
      "24/24 [==============================] - 1s 61ms/step - loss: 0.1838 - accuracy: 0.7744 - val_loss: 0.8509 - val_accuracy: 0.1831\n",
      "Epoch 3/10\n",
      "24/24 [==============================] - 1s 60ms/step - loss: 0.1469 - accuracy: 0.8310 - val_loss: 1.0765 - val_accuracy: 0.1435\n",
      "Epoch 4/10\n",
      "24/24 [==============================] - 2s 64ms/step - loss: 0.1266 - accuracy: 0.8548 - val_loss: 1.0882 - val_accuracy: 0.1806\n",
      "Epoch 5/10\n",
      "24/24 [==============================] - 2s 65ms/step - loss: 0.1123 - accuracy: 0.8772 - val_loss: 1.0938 - val_accuracy: 0.1511\n",
      "Epoch 6/10\n",
      "24/24 [==============================] - 1s 58ms/step - loss: 0.0976 - accuracy: 0.8951 - val_loss: 1.2506 - val_accuracy: 0.1435\n",
      "Epoch 7/10\n",
      "24/24 [==============================] - 1s 60ms/step - loss: 0.0879 - accuracy: 0.9038 - val_loss: 1.3482 - val_accuracy: 0.1932\n",
      "Epoch 8/10\n",
      "24/24 [==============================] - 1s 61ms/step - loss: 0.0849 - accuracy: 0.9061 - val_loss: 1.4173 - val_accuracy: 0.1190\n",
      "Epoch 9/10\n",
      "24/24 [==============================] - 1s 58ms/step - loss: 0.0738 - accuracy: 0.9207 - val_loss: 1.4661 - val_accuracy: 0.1781\n",
      "Epoch 10/10\n",
      "24/24 [==============================] - 1s 61ms/step - loss: 0.0682 - accuracy: 0.9264 - val_loss: 1.5521 - val_accuracy: 0.1603\n"
     ]
    }
   ],
   "source": [
    "r = model.fit(\n",
    "  data,\n",
    "  targets,\n",
    "  batch_size=BATCH_SIZE,\n",
    "  epochs=EPOCHS,\n",
    "  validation_split=VALIDATION_SPLIT\n",
    ")"
   ]
  },
  {
   "cell_type": "code",
   "execution_count": 177,
   "metadata": {},
   "outputs": [
    {
     "data": {
      "text/plain": [
       "<matplotlib.legend.Legend at 0x208011f3a30>"
      ]
     },
     "execution_count": 177,
     "metadata": {},
     "output_type": "execute_result"
    },
    {
     "data": {
      "image/png": "[encoded data removed]",
      "text/plain": [
       "<Figure size 432x288 with 1 Axes>"
      ]
     },
     "metadata": {
      "needs_background": "light"
     },
     "output_type": "display_data"
    }
   ],
   "source": [
    "acc = r.history['accuracy']\n",
    "val_acc = r.history['val_accuracy']\n",
    "loss = r.history['loss']\n",
    "val_loss = r.history['val_loss']\n",
    "plt.plot(acc,label=\"training acc\")\n",
    "plt.plot(val_acc,label=\"validation acc\")\n",
    "plt.legend()"
   ]
  },
  {
   "cell_type": "code",
   "execution_count": 178,
   "metadata": {},
   "outputs": [
    {
     "data": {
      "text/plain": [
       "<matplotlib.legend.Legend at 0x20808626ef0>"
      ]
     },
     "execution_count": 178,
     "metadata": {},
     "output_type": "execute_result"
    },
    {
     "data": {
      "image/png": "[encoded data removed]",
      "text/plain": [
       "<Figure size 432x288 with 1 Axes>"
      ]
     },
     "metadata": {
      "needs_background": "light"
     },
     "output_type": "display_data"
    }
   ],
   "source": [
    "plt.plot(loss,label=\"training loss\")\n",
    "plt.plot(val_loss,label=\"validation loss\")\n",
    "plt.legend()"
   ]
  },
  {
   "cell_type": "code",
   "execution_count": 218,
   "metadata": {},
   "outputs": [],
   "source": [
    "test_text = \"Vladmir Putin\"\n",
    "test_seq = tokenizer.texts_to_sequences(test_text)\n",
    "test_pad = pad_sequences(test_seq,maxlen=MAX_SEQUENCE_LENGTH)\n",
    "subreddits=model.predict(test_pad)[0]"
   ]
  },
  {
   "cell_type": "code",
   "execution_count": 219,
   "metadata": {},
   "outputs": [
    {
     "data": {
      "text/plain": [
       "6"
      ]
     },
     "execution_count": 219,
     "metadata": {},
     "output_type": "execute_result"
    }
   ],
   "source": [
    "len(possible_labels)"
   ]
  },
  {
   "cell_type": "code",
   "execution_count": 223,
   "metadata": {},
   "outputs": [
    {
     "name": "stdout",
     "output_type": "stream",
     "text": [
      "0.3211741 amitheasshole\n",
      "0.36451364 todayilearned\n",
      "0.48052305 explainlikeimfive\n",
      "0.42789918 news\n",
      "0.474048 askreddit\n",
      "0.22632349 cornell\n"
     ]
    }
   ],
   "source": [
    "for i in range(0,6):\n",
    "    print(subreddits[i] ,possible_labels[i])"
   ]
  }
 ],
 "metadata": {
  "interpreter": {
   "hash": "2be5faf79681da6f2a61fdfdd5405d65d042280f7fba6178067603e3a2925119"
  },
  "kernelspec": {
   "display_name": "Python 3.10.3 64-bit",
   "language": "python",
   "name": "python3"
  },
  "language_info": {
   "codemirror_mode": {
    "name": "ipython",
    "version": 3
   },
   "file_extension": ".py",
   "mimetype": "text/x-python",
   "name": "python",
   "nbconvert_exporter": "python",
   "pygments_lexer": "ipython3",
   "version": "3.10.3"
  },
  "orig_nbformat": 4
 },
 "nbformat": 4,
 "nbformat_minor": 2
}
