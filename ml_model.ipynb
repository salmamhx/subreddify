{
 "cells": [
  {
   "cell_type": "code",
   "execution_count": 273,
   "metadata": {},
   "outputs": [],
   "source": [
    "import os\n",
    "import numpy as np\n",
    "import pandas as pd\n",
    "import matplotlib.pyplot as plt\n",
    "import tensorflow as tf\n",
    "import keras\n",
    "from keras import layers\n",
    "from keras.preprocessing.text import Tokenizer\n",
    "from keras.preprocessing.sequence import pad_sequences\n",
    "from keras.layers import Dense, Input, GlobalMaxPooling1D\n",
    "from keras.layers import Conv1D, MaxPooling1D, Embedding\n",
    "from keras.models import Model\n",
    "from sklearn.metrics import roc_auc_score\n",
    "from keras import regularizers"
   ]
  },
  {
   "cell_type": "code",
   "execution_count": 317,
   "metadata": {},
   "outputs": [],
   "source": [
    "MAX_SEQUENCE_LENGTH= 30\n",
    "MAX_VOCAB_SIZE =20000\n",
    "EMBEDDING_DIM=25\n",
    "VALIDATION_SPLIT =0.2\n",
    "BATCH_SIZE =200\n",
    "EPOCHS = 20"
   ]
  },
  {
   "cell_type": "code",
   "execution_count": 298,
   "metadata": {},
   "outputs": [],
   "source": [
    "word2vec = {}\n",
    "with open (os.path.join(\"glove.twitter.27B.25d.txt\"), encoding='utf-8') as f:\n",
    "    for line in f:\n",
    "        values=line.split()\n",
    "        word=values[0]\n",
    "        vec = np.asarray(values[1:], dtype=\"float32\")\n",
    "        word2vec[word] =vec    "
   ]
  },
  {
   "cell_type": "markdown",
   "metadata": {},
   "source": [
    "Set up the Data"
   ]
  },
  {
   "cell_type": "code",
   "execution_count": 143,
   "metadata": {},
   "outputs": [
    {
     "data": {
      "text/html": [
       "<div>\n",
       "<style scoped>\n",
       "    .dataframe tbody tr th:only-of-type {\n",
       "        vertical-align: middle;\n",
       "    }\n",
       "\n",
       "    .dataframe tbody tr th {\n",
       "        vertical-align: top;\n",
       "    }\n",
       "\n",
       "    .dataframe thead th {\n",
       "        text-align: right;\n",
       "    }\n",
       "</style>\n",
       "<table border=\"1\" class=\"dataframe\">\n",
       "  <thead>\n",
       "    <tr style=\"text-align: right;\">\n",
       "      <th></th>\n",
       "      <th>Unnamed: 0</th>\n",
       "      <th>amitheasshole</th>\n",
       "      <th>todayilearned</th>\n",
       "      <th>explainlikeimfive</th>\n",
       "      <th>news</th>\n",
       "      <th>askreddit</th>\n",
       "      <th>cornell</th>\n",
       "    </tr>\n",
       "  </thead>\n",
       "  <tbody>\n",
       "    <tr>\n",
       "      <th>0</th>\n",
       "      <td>0</td>\n",
       "      <td>AITA for telling my wife the lock on my daught...</td>\n",
       "      <td>TIL that slaveholders in the US knew that ensl...</td>\n",
       "      <td>ELI5:How after 5000 years of humanity survivin...</td>\n",
       "      <td>Joe Biden elected president of the United States</td>\n",
       "      <td>People who haven't pooped in 2019 yet, why are...</td>\n",
       "      <td>Cornell Alert: Anyone know whats going on?</td>\n",
       "    </tr>\n",
       "    <tr>\n",
       "      <th>1</th>\n",
       "      <td>1</td>\n",
       "      <td>META: This sub is moving towards a value syste...</td>\n",
       "      <td>TIL During an interview with Stephen Hawking, ...</td>\n",
       "      <td>We call upon Reddit to take action against the...</td>\n",
       "      <td>Chauvin found guilty of murder, manslaughter i...</td>\n",
       "      <td>How would you feel about Reddit adding 3 NSFW ...</td>\n",
       "      <td>I threw up in my mask and had to continue taki...</td>\n",
       "    </tr>\n",
       "    <tr>\n",
       "      <th>2</th>\n",
       "      <td>2</td>\n",
       "      <td>UPDATE, AITA for despising my mentally handica...</td>\n",
       "      <td>TIL Genghis Khan would marry off a daughter to...</td>\n",
       "      <td>ELI5: How did we get to the point where laptop...</td>\n",
       "      <td>President Donald Trump says he has tested posi...</td>\n",
       "      <td>Would you watch a show where a billionaire CEO...</td>\n",
       "      <td>this professor gets it</td>\n",
       "    </tr>\n",
       "    <tr>\n",
       "      <th>3</th>\n",
       "      <td>3</td>\n",
       "      <td>AITA For suing my girlfriend after she had my ...</td>\n",
       "      <td>TIL the FBI has struggled to hire hackers beca...</td>\n",
       "      <td>ELI5: Stock Market Megathread</td>\n",
       "      <td>Blizzard Employees Staged a Walkout After the ...</td>\n",
       "      <td>What if God came down one day and said \"It's p...</td>\n",
       "      <td>An actual summary of the 97 page report</td>\n",
       "    </tr>\n",
       "    <tr>\n",
       "      <th>4</th>\n",
       "      <td>4</td>\n",
       "      <td>UPDATE: AITA for wanting to go to the funeral ...</td>\n",
       "      <td>TIL After Col. Shaw died in battle, Confederat...</td>\n",
       "      <td>ELI5: So how does the the human brain ignore t...</td>\n",
       "      <td>Trump has left the White House for the last ti...</td>\n",
       "      <td>How would you feel about a feature where if so...</td>\n",
       "      <td>I am a New Bus!</td>\n",
       "    </tr>\n",
       "  </tbody>\n",
       "</table>\n",
       "</div>"
      ],
      "text/plain": [
       "   Unnamed: 0                                      amitheasshole  \\\n",
       "0           0  AITA for telling my wife the lock on my daught...   \n",
       "1           1  META: This sub is moving towards a value syste...   \n",
       "2           2  UPDATE, AITA for despising my mentally handica...   \n",
       "3           3  AITA For suing my girlfriend after she had my ...   \n",
       "4           4  UPDATE: AITA for wanting to go to the funeral ...   \n",
       "\n",
       "                                       todayilearned  \\\n",
       "0  TIL that slaveholders in the US knew that ensl...   \n",
       "1  TIL During an interview with Stephen Hawking, ...   \n",
       "2  TIL Genghis Khan would marry off a daughter to...   \n",
       "3  TIL the FBI has struggled to hire hackers beca...   \n",
       "4  TIL After Col. Shaw died in battle, Confederat...   \n",
       "\n",
       "                                   explainlikeimfive  \\\n",
       "0  ELI5:How after 5000 years of humanity survivin...   \n",
       "1  We call upon Reddit to take action against the...   \n",
       "2  ELI5: How did we get to the point where laptop...   \n",
       "3                      ELI5: Stock Market Megathread   \n",
       "4  ELI5: So how does the the human brain ignore t...   \n",
       "\n",
       "                                                news  \\\n",
       "0   Joe Biden elected president of the United States   \n",
       "1  Chauvin found guilty of murder, manslaughter i...   \n",
       "2  President Donald Trump says he has tested posi...   \n",
       "3  Blizzard Employees Staged a Walkout After the ...   \n",
       "4  Trump has left the White House for the last ti...   \n",
       "\n",
       "                                           askreddit  \\\n",
       "0  People who haven't pooped in 2019 yet, why are...   \n",
       "1  How would you feel about Reddit adding 3 NSFW ...   \n",
       "2  Would you watch a show where a billionaire CEO...   \n",
       "3  What if God came down one day and said \"It's p...   \n",
       "4  How would you feel about a feature where if so...   \n",
       "\n",
       "                                             cornell  \n",
       "0         Cornell Alert: Anyone know whats going on?  \n",
       "1  I threw up in my mask and had to continue taki...  \n",
       "2                             this professor gets it  \n",
       "3            An actual summary of the 97 page report  \n",
       "4                                    I am a New Bus!  "
      ]
     },
     "execution_count": 143,
     "metadata": {},
     "output_type": "execute_result"
    }
   ],
   "source": [
    "df = pd.read_csv(\"data/curated_extreme_data.csv\")\n",
    "df.head()"
   ]
  },
  {
   "cell_type": "code",
   "execution_count": 154,
   "metadata": {},
   "outputs": [
    {
     "data": {
      "text/html": [
       "<div>\n",
       "<style scoped>\n",
       "    .dataframe tbody tr th:only-of-type {\n",
       "        vertical-align: middle;\n",
       "    }\n",
       "\n",
       "    .dataframe tbody tr th {\n",
       "        vertical-align: top;\n",
       "    }\n",
       "\n",
       "    .dataframe thead th {\n",
       "        text-align: right;\n",
       "    }\n",
       "</style>\n",
       "<table border=\"1\" class=\"dataframe\">\n",
       "  <thead>\n",
       "    <tr style=\"text-align: right;\">\n",
       "      <th></th>\n",
       "      <th>title</th>\n",
       "      <th>amitheasshole</th>\n",
       "      <th>todayilearned</th>\n",
       "      <th>explainlikeimfive</th>\n",
       "      <th>news</th>\n",
       "      <th>askreddit</th>\n",
       "      <th>cornell</th>\n",
       "    </tr>\n",
       "  </thead>\n",
       "  <tbody>\n",
       "    <tr>\n",
       "      <th>0</th>\n",
       "      <td>AITA for telling my wife the lock on my daught...</td>\n",
       "      <td>1.0</td>\n",
       "      <td>0.0</td>\n",
       "      <td>0.0</td>\n",
       "      <td>0.0</td>\n",
       "      <td>0.0</td>\n",
       "      <td>0.0</td>\n",
       "    </tr>\n",
       "    <tr>\n",
       "      <th>1</th>\n",
       "      <td>META: This sub is moving towards a value syste...</td>\n",
       "      <td>1.0</td>\n",
       "      <td>0.0</td>\n",
       "      <td>0.0</td>\n",
       "      <td>0.0</td>\n",
       "      <td>0.0</td>\n",
       "      <td>0.0</td>\n",
       "    </tr>\n",
       "    <tr>\n",
       "      <th>2</th>\n",
       "      <td>UPDATE, AITA for despising my mentally handica...</td>\n",
       "      <td>1.0</td>\n",
       "      <td>0.0</td>\n",
       "      <td>0.0</td>\n",
       "      <td>0.0</td>\n",
       "      <td>0.0</td>\n",
       "      <td>0.0</td>\n",
       "    </tr>\n",
       "    <tr>\n",
       "      <th>3</th>\n",
       "      <td>AITA For suing my girlfriend after she had my ...</td>\n",
       "      <td>1.0</td>\n",
       "      <td>0.0</td>\n",
       "      <td>0.0</td>\n",
       "      <td>0.0</td>\n",
       "      <td>0.0</td>\n",
       "      <td>0.0</td>\n",
       "    </tr>\n",
       "    <tr>\n",
       "      <th>4</th>\n",
       "      <td>UPDATE: AITA for wanting to go to the funeral ...</td>\n",
       "      <td>1.0</td>\n",
       "      <td>0.0</td>\n",
       "      <td>0.0</td>\n",
       "      <td>0.0</td>\n",
       "      <td>0.0</td>\n",
       "      <td>0.0</td>\n",
       "    </tr>\n",
       "  </tbody>\n",
       "</table>\n",
       "</div>"
      ],
      "text/plain": [
       "                                               title  amitheasshole  \\\n",
       "0  AITA for telling my wife the lock on my daught...            1.0   \n",
       "1  META: This sub is moving towards a value syste...            1.0   \n",
       "2  UPDATE, AITA for despising my mentally handica...            1.0   \n",
       "3  AITA For suing my girlfriend after she had my ...            1.0   \n",
       "4  UPDATE: AITA for wanting to go to the funeral ...            1.0   \n",
       "\n",
       "   todayilearned  explainlikeimfive  news  askreddit  cornell  \n",
       "0            0.0                0.0   0.0        0.0      0.0  \n",
       "1            0.0                0.0   0.0        0.0      0.0  \n",
       "2            0.0                0.0   0.0        0.0      0.0  \n",
       "3            0.0                0.0   0.0        0.0      0.0  \n",
       "4            0.0                0.0   0.0        0.0      0.0  "
      ]
     },
     "execution_count": 154,
     "metadata": {},
     "output_type": "execute_result"
    }
   ],
   "source": [
    "train = pd.DataFrame()\n",
    "train['title'] = []\n",
    "for i in df.columns[1:]:\n",
    "    train[i] = []\n",
    "\n",
    "for label in df.columns[1:]:\n",
    "    for sentence in df[label]:\n",
    "        train = train.append({'title': sentence, label:1},ignore_index=True)\n",
    "        train = train.fillna(0)\n",
    "\n",
    "train.head()\n"
   ]
  },
  {
   "cell_type": "code",
   "execution_count": 300,
   "metadata": {},
   "outputs": [],
   "source": [
    "possible_labels = ['amitheasshole','todayilearned','explainlikeimfive','news','askreddit','cornell']"
   ]
  },
  {
   "cell_type": "markdown",
   "metadata": {},
   "source": [
    "Preprocessing and Tokenizing"
   ]
  },
  {
   "cell_type": "code",
   "execution_count": 309,
   "metadata": {},
   "outputs": [],
   "source": [
    "from keras.preprocessing.text import Tokenizer\n",
    "\n",
    "sentences = train[\"title\"].fillna(\"NO_TITLE_EMPTY\").values\n",
    "sentences = [item for item in sentences if not isinstance(item, int)]\n",
    "targets = train[possible_labels].values\n",
    "\n",
    "tokenizer= Tokenizer(num_words=MAX_VOCAB_SIZE)\n",
    "tokenizer.fit_on_texts(sentences)\n",
    "sequences = tokenizer.texts_to_sequences(sentences)\n",
    "#sequences\n",
    "#tokenizer.word_index\n",
    "data = pad_sequences(sequences, maxlen=MAX_SEQUENCE_LENGTH)"
   ]
  },
  {
   "cell_type": "markdown",
   "metadata": {},
   "source": [
    "Preprocessing the Data Text"
   ]
  },
  {
   "cell_type": "code",
   "execution_count": 310,
   "metadata": {},
   "outputs": [
    {
     "name": "stdout",
     "output_type": "stream",
     "text": [
      "max sequence length: 62\n",
      "min sequence length: 0\n",
      "median sequence length: 15\n",
      "max word index: 14263\n",
      "Found 14263 unique tokens.\n"
     ]
    }
   ],
   "source": [
    "print(\"max sequence length:\", max(len(s) for s in sequences))\n",
    "print(\"min sequence length:\", min(len(s) for s in sequences))\n",
    "s = sorted(len(s) for s in sequences)\n",
    "print(\"median sequence length:\", s[len(s) // 2])\n",
    "\n",
    "print(\"max word index:\", max(max(seq) for seq in sequences if len(seq) > 0))\n",
    "\n",
    "\n",
    "# get word -> integer mapping\n",
    "word2idx = tokenizer.word_index\n",
    "print('Found %s unique tokens.' % len(word2idx))"
   ]
  },
  {
   "cell_type": "code",
   "execution_count": 311,
   "metadata": {},
   "outputs": [],
   "source": [
    "num_words = min(MAX_VOCAB_SIZE, len(word2idx) + 1)\n",
    "embedding_matrix = np.zeros((num_words, EMBEDDING_DIM))\n",
    "\n",
    "for word, i in word2idx.items():\n",
    "  if i < MAX_VOCAB_SIZE:\n",
    "    embedding_vector = word2vec.get(word)\n",
    "    if embedding_vector is not None:\n",
    "      # words not found in embedding index will be all zeros.\n",
    "      embedding_matrix[i] = embedding_vector"
   ]
  },
  {
   "cell_type": "code",
   "execution_count": 312,
   "metadata": {},
   "outputs": [],
   "source": [
    "embedding_layer = Embedding(\n",
    "    num_words,\n",
    "    EMBEDDING_DIM,\n",
    "    weights=[embedding_matrix],\n",
    "    input_length=MAX_SEQUENCE_LENGTH,\n",
    "    trainable=False\n",
    ")"
   ]
  },
  {
   "cell_type": "code",
   "execution_count": 313,
   "metadata": {},
   "outputs": [],
   "source": [
    "input_ = Input(shape=(MAX_SEQUENCE_LENGTH,)) #Dimensions\n",
    "\n",
    "x=embedding_layer(input_)\n",
    "\n",
    "x=Dense(128,activation=\"relu\",kernel_regularizer=regularizers.L1L2(l1=1e-5, l2=1e-4),\n",
    "    bias_regularizer=regularizers.L2(1e-4),\n",
    "    activity_regularizer=regularizers.L2(1e-5))(x)\n",
    "\n",
    "\n",
    "x=Conv1D(128,2,activation=\"relu\")(x)\n",
    "x=MaxPooling1D(2)(x)\n",
    "\n",
    "x=Conv1D(128,2,activation=\"relu\")(x)\n",
    "x=MaxPooling1D(2)(x)\n",
    "\n",
    "x=Conv1D(128,2,activation=\"relu\")(x)\n",
    "x=GlobalMaxPooling1D()(x)\n",
    "\n",
    "output=Dense(len(possible_labels), activation=\"sigmoid\")(x)"
   ]
  },
  {
   "cell_type": "code",
   "execution_count": 314,
   "metadata": {},
   "outputs": [],
   "source": [
    "model = Model(input_, output)\n",
    "model.compile(\n",
    "  loss='binary_crossentropy',\n",
    "  optimizer='rmsprop',\n",
    "  metrics=['accuracy']\n",
    ")"
   ]
  },
  {
   "cell_type": "markdown",
   "metadata": {},
   "source": [
    "## Train the Model"
   ]
  },
  {
   "cell_type": "code",
   "execution_count": 260,
   "metadata": {},
   "outputs": [
    {
     "name": "stdout",
     "output_type": "stream",
     "text": [
      "Epoch 1/10\n",
      "24/24 [==============================] - 3s 63ms/step - loss: 0.3511 - accuracy: 0.5989 - val_loss: 0.8975 - val_accuracy: 0.0608\n",
      "Epoch 2/10\n",
      "24/24 [==============================] - 1s 54ms/step - loss: 0.2163 - accuracy: 0.7786 - val_loss: 0.9067 - val_accuracy: 0.1333\n",
      "Epoch 3/10\n",
      "24/24 [==============================] - 1s 51ms/step - loss: 0.1862 - accuracy: 0.8198 - val_loss: 1.0614 - val_accuracy: 0.0852\n",
      "Epoch 4/10\n",
      "24/24 [==============================] - 1s 54ms/step - loss: 0.1644 - accuracy: 0.8529 - val_loss: 1.0208 - val_accuracy: 0.1646\n",
      "Epoch 5/10\n",
      "24/24 [==============================] - 1s 59ms/step - loss: 0.1443 - accuracy: 0.8717 - val_loss: 1.2013 - val_accuracy: 0.1156\n",
      "Epoch 6/10\n",
      "24/24 [==============================] - 1s 60ms/step - loss: 0.1384 - accuracy: 0.8723 - val_loss: 1.2114 - val_accuracy: 0.1460\n",
      "Epoch 7/10\n",
      "24/24 [==============================] - 1s 57ms/step - loss: 0.1256 - accuracy: 0.8947 - val_loss: 1.3580 - val_accuracy: 0.1342\n",
      "Epoch 8/10\n",
      "24/24 [==============================] - 1s 50ms/step - loss: 0.1188 - accuracy: 0.9029 - val_loss: 1.4655 - val_accuracy: 0.1814\n",
      "Epoch 9/10\n",
      "24/24 [==============================] - 1s 52ms/step - loss: 0.1157 - accuracy: 0.9021 - val_loss: 1.4548 - val_accuracy: 0.1553\n",
      "Epoch 10/10\n",
      "24/24 [==============================] - 1s 51ms/step - loss: 0.1070 - accuracy: 0.9095 - val_loss: 1.6602 - val_accuracy: 0.1612\n"
     ]
    }
   ],
   "source": [
    "r = model.fit(\n",
    "  data,\n",
    "  targets,\n",
    "  batch_size=BATCH_SIZE,\n",
    "  epochs=EPOCHS,\n",
    "  validation_split=VALIDATION_SPLIT\n",
    ")"
   ]
  },
  {
   "cell_type": "code",
   "execution_count": 261,
   "metadata": {},
   "outputs": [
    {
     "data": {
      "text/plain": [
       "<matplotlib.legend.Legend at 0x2080b70bac0>"
      ]
     },
     "execution_count": 261,
     "metadata": {},
     "output_type": "execute_result"
    },
    {
     "data": {
      "image/png": "[encoded data removed]",
      "text/plain": [
       "<Figure size 432x288 with 1 Axes>"
      ]
     },
     "metadata": {
      "needs_background": "light"
     },
     "output_type": "display_data"
    }
   ],
   "source": [
    "acc = r.history['accuracy']\n",
    "val_acc = r.history['val_accuracy']\n",
    "loss = r.history['loss']\n",
    "val_loss = r.history['val_loss']\n",
    "plt.plot(acc,label=\"training acc\")\n",
    "plt.plot(val_acc,label=\"validation acc\")\n",
    "plt.legend()"
   ]
  },
  {
   "cell_type": "code",
   "execution_count": 262,
   "metadata": {},
   "outputs": [
    {
     "data": {
      "text/plain": [
       "<matplotlib.legend.Legend at 0x2080827ff10>"
      ]
     },
     "execution_count": 262,
     "metadata": {},
     "output_type": "execute_result"
    },
    {
     "data": {
      "image/png": "[encoded data removed]",
      "text/plain": [
       "<Figure size 432x288 with 1 Axes>"
      ]
     },
     "metadata": {
      "needs_background": "light"
     },
     "output_type": "display_data"
    }
   ],
   "source": [
    "plt.plot(loss,label=\"training loss\")\n",
    "plt.plot(val_loss,label=\"validation loss\")\n",
    "plt.legend()"
   ]
  },
  {
   "cell_type": "code",
   "execution_count": 269,
   "metadata": {},
   "outputs": [],
   "source": [
    "test_text = \"TIFU by not making a good model\"\n",
    "test_seq = tokenizer.texts_to_sequences(test_text)\n",
    "test_pad = pad_sequences(test_seq,maxlen=MAX_SEQUENCE_LENGTH)\n",
    "subreddits=model.predict(test_pad)[0]"
   ]
  },
  {
   "cell_type": "code",
   "execution_count": 270,
   "metadata": {},
   "outputs": [
    {
     "data": {
      "text/plain": [
       "6"
      ]
     },
     "execution_count": 270,
     "metadata": {},
     "output_type": "execute_result"
    }
   ],
   "source": [
    "len(possible_labels)"
   ]
  },
  {
   "cell_type": "code",
   "execution_count": 271,
   "metadata": {},
   "outputs": [
    {
     "name": "stdout",
     "output_type": "stream",
     "text": [
      "0.37851483 amitheasshole\n",
      "0.33201912 todayilearned\n",
      "0.46514106 explainlikeimfive\n",
      "0.48738322 news\n",
      "0.443127 askreddit\n",
      "0.21631321 cornell\n"
     ]
    }
   ],
   "source": [
    "for i in range(0,6):\n",
    "    print(subreddits[i] ,possible_labels[i])"
   ]
  },
  {
   "cell_type": "code",
   "execution_count": 324,
   "metadata": {},
   "outputs": [],
   "source": [
    "from keras import Sequential\n",
    "from keras.layers import Dense, Activation, Embedding, Flatten, GlobalMaxPool1D, Dropout, Conv1D\n",
    "filter_length = 300\n",
    "model = Sequential()\n",
    "model.add(Embedding(MAX_VOCAB_SIZE, 20, input_length=MAX_SEQUENCE_LENGTH))\n",
    "model.add(Conv1D(filter_length, 3, padding='valid', activation='relu', strides=1))\n",
    "model.add(GlobalMaxPool1D())\n",
    "model.add(Dense(len(possible_labels), kernel_regularizer=regularizers.L1L2(l1=1e-5, l2=1e-4),\n",
    "    bias_regularizer=regularizers.L2(1e-4),\n",
    "    activity_regularizer=regularizers.L2(1e-5)))\n",
    "model.add(Activation('sigmoid'))\n",
    "model.compile(optimizer='adam', loss='binary_crossentropy', metrics=[tf.keras.metrics.AUC()])"
   ]
  },
  {
   "cell_type": "code",
   "execution_count": 325,
   "metadata": {},
   "outputs": [
    {
     "name": "stdout",
     "output_type": "stream",
     "text": [
      "Epoch 1/60\n",
      "24/24 [==============================] - 2s 50ms/step - loss: 0.6225 - auc_6: 0.5350 - val_loss: 0.5564 - val_auc_6: 0.3735\n",
      "Epoch 2/60\n",
      "24/24 [==============================] - 1s 29ms/step - loss: 0.4597 - auc_6: 0.6093 - val_loss: 0.5107 - val_auc_6: 0.1440\n",
      "Epoch 3/60\n",
      "24/24 [==============================] - 1s 30ms/step - loss: 0.3771 - auc_6: 0.8649 - val_loss: 0.6493 - val_auc_6: 0.1089\n",
      "Epoch 4/60\n",
      "24/24 [==============================] - 1s 30ms/step - loss: 0.2892 - auc_6: 0.9512 - val_loss: 0.7630 - val_auc_6: 0.1904\n",
      "Epoch 5/60\n",
      "24/24 [==============================] - 1s 30ms/step - loss: 0.1977 - auc_6: 0.9768 - val_loss: 0.9279 - val_auc_6: 0.2078\n",
      "Epoch 6/60\n",
      "24/24 [==============================] - 1s 31ms/step - loss: 0.1373 - auc_6: 0.9854 - val_loss: 1.0480 - val_auc_6: 0.2186\n",
      "Epoch 7/60\n",
      "24/24 [==============================] - 1s 30ms/step - loss: 0.1003 - auc_6: 0.9906 - val_loss: 1.1350 - val_auc_6: 0.2281\n",
      "Epoch 8/60\n",
      "24/24 [==============================] - 1s 30ms/step - loss: 0.0801 - auc_6: 0.9932 - val_loss: 1.2123 - val_auc_6: 0.2379\n",
      "Epoch 9/60\n",
      "24/24 [==============================] - 1s 35ms/step - loss: 0.0685 - auc_6: 0.9944 - val_loss: 1.2460 - val_auc_6: 0.2458\n",
      "Epoch 10/60\n",
      "24/24 [==============================] - 1s 32ms/step - loss: 0.0599 - auc_6: 0.9956 - val_loss: 1.2373 - val_auc_6: 0.2595\n",
      "Epoch 11/60\n",
      "24/24 [==============================] - 1s 35ms/step - loss: 0.0532 - auc_6: 0.9965 - val_loss: 1.2412 - val_auc_6: 0.2685\n",
      "Epoch 12/60\n",
      "24/24 [==============================] - 1s 34ms/step - loss: 0.0475 - auc_6: 0.9974 - val_loss: 1.2415 - val_auc_6: 0.2832\n",
      "Epoch 13/60\n",
      "24/24 [==============================] - 1s 31ms/step - loss: 0.0426 - auc_6: 0.9977 - val_loss: 1.2449 - val_auc_6: 0.2948\n",
      "Epoch 14/60\n",
      "24/24 [==============================] - 1s 31ms/step - loss: 0.0385 - auc_6: 0.9982 - val_loss: 1.2086 - val_auc_6: 0.3004\n",
      "Epoch 15/60\n",
      "24/24 [==============================] - 1s 31ms/step - loss: 0.0347 - auc_6: 0.9986 - val_loss: 1.2299 - val_auc_6: 0.3179\n",
      "Epoch 16/60\n",
      "24/24 [==============================] - 1s 31ms/step - loss: 0.0314 - auc_6: 0.9989 - val_loss: 1.2057 - val_auc_6: 0.3235\n",
      "Epoch 17/60\n",
      "24/24 [==============================] - 1s 30ms/step - loss: 0.0287 - auc_6: 0.9993 - val_loss: 1.1874 - val_auc_6: 0.3319\n",
      "Epoch 18/60\n",
      "24/24 [==============================] - 1s 30ms/step - loss: 0.0263 - auc_6: 0.9995 - val_loss: 1.1866 - val_auc_6: 0.3384\n",
      "Epoch 19/60\n",
      "24/24 [==============================] - 1s 29ms/step - loss: 0.0243 - auc_6: 0.9997 - val_loss: 1.1664 - val_auc_6: 0.3503\n",
      "Epoch 20/60\n",
      "24/24 [==============================] - 1s 30ms/step - loss: 0.0225 - auc_6: 0.9998 - val_loss: 1.1755 - val_auc_6: 0.3629\n",
      "Epoch 21/60\n",
      "24/24 [==============================] - 1s 29ms/step - loss: 0.0210 - auc_6: 0.9999 - val_loss: 1.1527 - val_auc_6: 0.3686\n",
      "Epoch 22/60\n",
      "24/24 [==============================] - 1s 31ms/step - loss: 0.0197 - auc_6: 0.9999 - val_loss: 1.1740 - val_auc_6: 0.3801\n",
      "Epoch 23/60\n",
      "24/24 [==============================] - 1s 30ms/step - loss: 0.0187 - auc_6: 0.9999 - val_loss: 1.1605 - val_auc_6: 0.3847\n",
      "Epoch 24/60\n",
      "24/24 [==============================] - 1s 30ms/step - loss: 0.0176 - auc_6: 1.0000 - val_loss: 1.1686 - val_auc_6: 0.3916\n",
      "Epoch 25/60\n",
      "24/24 [==============================] - 1s 31ms/step - loss: 0.0169 - auc_6: 1.0000 - val_loss: 1.1552 - val_auc_6: 0.3960\n",
      "Epoch 26/60\n",
      "24/24 [==============================] - 1s 30ms/step - loss: 0.0162 - auc_6: 1.0000 - val_loss: 1.1569 - val_auc_6: 0.3999\n",
      "Epoch 27/60\n",
      "24/24 [==============================] - 1s 30ms/step - loss: 0.0157 - auc_6: 1.0000 - val_loss: 1.1612 - val_auc_6: 0.4059\n",
      "Epoch 28/60\n",
      "24/24 [==============================] - 1s 30ms/step - loss: 0.0152 - auc_6: 1.0000 - val_loss: 1.1560 - val_auc_6: 0.4086\n",
      "Epoch 29/60\n",
      "24/24 [==============================] - 1s 31ms/step - loss: 0.0147 - auc_6: 1.0000 - val_loss: 1.1541 - val_auc_6: 0.4117\n",
      "Epoch 30/60\n",
      "24/24 [==============================] - 1s 31ms/step - loss: 0.0144 - auc_6: 1.0000 - val_loss: 1.1551 - val_auc_6: 0.4134\n",
      "Epoch 31/60\n",
      "24/24 [==============================] - 1s 35ms/step - loss: 0.0141 - auc_6: 1.0000 - val_loss: 1.1549 - val_auc_6: 0.4166\n",
      "Epoch 32/60\n",
      "24/24 [==============================] - 1s 29ms/step - loss: 0.0138 - auc_6: 1.0000 - val_loss: 1.1526 - val_auc_6: 0.4194\n",
      "Epoch 33/60\n",
      "24/24 [==============================] - 1s 30ms/step - loss: 0.0135 - auc_6: 1.0000 - val_loss: 1.1514 - val_auc_6: 0.4225\n",
      "Epoch 34/60\n",
      "24/24 [==============================] - 1s 30ms/step - loss: 0.0133 - auc_6: 1.0000 - val_loss: 1.1489 - val_auc_6: 0.4232\n",
      "Epoch 35/60\n",
      "24/24 [==============================] - 1s 34ms/step - loss: 0.0131 - auc_6: 1.0000 - val_loss: 1.1521 - val_auc_6: 0.4244\n",
      "Epoch 36/60\n",
      "24/24 [==============================] - 1s 29ms/step - loss: 0.0129 - auc_6: 1.0000 - val_loss: 1.1497 - val_auc_6: 0.4265\n",
      "Epoch 37/60\n",
      "24/24 [==============================] - 1s 29ms/step - loss: 0.0127 - auc_6: 1.0000 - val_loss: 1.1481 - val_auc_6: 0.4286\n",
      "Epoch 38/60\n",
      "24/24 [==============================] - 1s 30ms/step - loss: 0.0125 - auc_6: 1.0000 - val_loss: 1.1449 - val_auc_6: 0.4285\n",
      "Epoch 39/60\n",
      "24/24 [==============================] - 1s 28ms/step - loss: 0.0123 - auc_6: 1.0000 - val_loss: 1.1441 - val_auc_6: 0.4300\n",
      "Epoch 40/60\n",
      "24/24 [==============================] - 1s 29ms/step - loss: 0.0122 - auc_6: 1.0000 - val_loss: 1.1413 - val_auc_6: 0.4319\n",
      "Epoch 41/60\n",
      "24/24 [==============================] - 1s 30ms/step - loss: 0.0120 - auc_6: 1.0000 - val_loss: 1.1403 - val_auc_6: 0.4332\n",
      "Epoch 42/60\n",
      "24/24 [==============================] - 1s 29ms/step - loss: 0.0119 - auc_6: 1.0000 - val_loss: 1.1382 - val_auc_6: 0.4352\n",
      "Epoch 43/60\n",
      "24/24 [==============================] - 1s 29ms/step - loss: 0.0117 - auc_6: 1.0000 - val_loss: 1.1359 - val_auc_6: 0.4373\n",
      "Epoch 44/60\n",
      "24/24 [==============================] - 1s 29ms/step - loss: 0.0116 - auc_6: 1.0000 - val_loss: 1.1360 - val_auc_6: 0.4370\n",
      "Epoch 45/60\n",
      "24/24 [==============================] - 1s 31ms/step - loss: 0.0115 - auc_6: 1.0000 - val_loss: 1.1304 - val_auc_6: 0.4388\n",
      "Epoch 46/60\n",
      "24/24 [==============================] - 1s 33ms/step - loss: 0.0113 - auc_6: 1.0000 - val_loss: 1.1304 - val_auc_6: 0.4399\n",
      "Epoch 47/60\n",
      "24/24 [==============================] - 1s 32ms/step - loss: 0.0112 - auc_6: 1.0000 - val_loss: 1.1274 - val_auc_6: 0.4406\n",
      "Epoch 48/60\n",
      "24/24 [==============================] - 1s 32ms/step - loss: 0.0111 - auc_6: 1.0000 - val_loss: 1.1251 - val_auc_6: 0.4417\n",
      "Epoch 49/60\n",
      "24/24 [==============================] - 1s 32ms/step - loss: 0.0110 - auc_6: 1.0000 - val_loss: 1.1234 - val_auc_6: 0.4434\n",
      "Epoch 50/60\n",
      "24/24 [==============================] - 1s 32ms/step - loss: 0.0109 - auc_6: 1.0000 - val_loss: 1.1213 - val_auc_6: 0.4453\n",
      "Epoch 51/60\n",
      "24/24 [==============================] - 1s 32ms/step - loss: 0.0108 - auc_6: 1.0000 - val_loss: 1.1193 - val_auc_6: 0.4448\n",
      "Epoch 52/60\n",
      "24/24 [==============================] - 1s 29ms/step - loss: 0.0106 - auc_6: 1.0000 - val_loss: 1.1172 - val_auc_6: 0.4467\n",
      "Epoch 53/60\n",
      "24/24 [==============================] - 1s 30ms/step - loss: 0.0105 - auc_6: 1.0000 - val_loss: 1.1135 - val_auc_6: 0.4468\n",
      "Epoch 54/60\n",
      "24/24 [==============================] - 1s 28ms/step - loss: 0.0104 - auc_6: 1.0000 - val_loss: 1.1141 - val_auc_6: 0.4486\n",
      "Epoch 55/60\n",
      "24/24 [==============================] - 1s 29ms/step - loss: 0.0103 - auc_6: 1.0000 - val_loss: 1.1104 - val_auc_6: 0.4496\n",
      "Epoch 56/60\n",
      "24/24 [==============================] - 1s 29ms/step - loss: 0.0102 - auc_6: 1.0000 - val_loss: 1.1119 - val_auc_6: 0.4487\n",
      "Epoch 57/60\n",
      "24/24 [==============================] - 1s 29ms/step - loss: 0.0101 - auc_6: 1.0000 - val_loss: 1.1089 - val_auc_6: 0.4492\n",
      "Epoch 58/60\n",
      "24/24 [==============================] - 1s 30ms/step - loss: 0.0100 - auc_6: 1.0000 - val_loss: 1.1059 - val_auc_6: 0.4508\n",
      "Epoch 59/60\n",
      "24/24 [==============================] - 1s 31ms/step - loss: 0.0099 - auc_6: 1.0000 - val_loss: 1.1064 - val_auc_6: 0.4517\n",
      "Epoch 60/60\n",
      "24/24 [==============================] - 1s 29ms/step - loss: 0.0098 - auc_6: 1.0000 - val_loss: 1.1057 - val_auc_6: 0.4514\n"
     ]
    }
   ],
   "source": [
    "r = model.fit(\n",
    "  data,\n",
    "  targets,\n",
    "  batch_size=BATCH_SIZE,\n",
    "  epochs=60,\n",
    "  validation_split=VALIDATION_SPLIT\n",
    ")"
   ]
  },
  {
   "cell_type": "code",
   "execution_count": 327,
   "metadata": {},
   "outputs": [
    {
     "data": {
      "text/plain": [
       "<matplotlib.legend.Legend at 0x20810a8fb20>"
      ]
     },
     "execution_count": 327,
     "metadata": {},
     "output_type": "execute_result"
    },
    {
     "data": {
      "image/png": "[encoded data removed]",
      "text/plain": [
       "<Figure size 432x288 with 1 Axes>"
      ]
     },
     "metadata": {
      "needs_background": "light"
     },
     "output_type": "display_data"
    }
   ],
   "source": [
    "acc = r.history['auc_6']\n",
    "val_acc = r.history['val_auc_6']\n",
    "loss = r.history['loss']\n",
    "val_loss = r.history['val_loss']\n",
    "plt.plot(acc,label=\"training acc\")\n",
    "plt.plot(val_acc,label=\"validation acc\")\n",
    "plt.legend()"
   ]
  },
  {
   "cell_type": "code",
   "execution_count": 328,
   "metadata": {},
   "outputs": [
    {
     "data": {
      "text/plain": [
       "<matplotlib.legend.Legend at 0x20810a8ffa0>"
      ]
     },
     "execution_count": 328,
     "metadata": {},
     "output_type": "execute_result"
    },
    {
     "data": {
      "image/png": "[encoded data removed]",
      "text/plain": [
       "<Figure size 432x288 with 1 Axes>"
      ]
     },
     "metadata": {
      "needs_background": "light"
     },
     "output_type": "display_data"
    }
   ],
   "source": [
    "plt.plot(loss,label=\"training loss\")\n",
    "plt.plot(val_loss,label=\"validation loss\")\n",
    "plt.legend()"
   ]
  }
 ],
 "metadata": {
  "interpreter": {
   "hash": "2be5faf79681da6f2a61fdfdd5405d65d042280f7fba6178067603e3a2925119"
  },
  "kernelspec": {
   "display_name": "Python 3.10.3 64-bit",
   "language": "python",
   "name": "python3"
  },
  "language_info": {
   "codemirror_mode": {
    "name": "ipython",
    "version": 3
   },
   "file_extension": ".py",
   "mimetype": "text/x-python",
   "name": "python",
   "nbconvert_exporter": "python",
   "pygments_lexer": "ipython3",
   "version": "3.10.3"
  },
  "orig_nbformat": 4
 },
 "nbformat": 4,
 "nbformat_minor": 2
}
