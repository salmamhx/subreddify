{
 "cells": [
  {
   "cell_type": "code",
   "execution_count": null,
   "metadata": {},
   "outputs": [],
   "source": [
    "import os\n",
    "import numpy as np\n",
    "import pandas as pd\n",
    "import matplotlib.pyplot as plt\n",
    "import tensorflow as tf\n",
    "import keras\n",
    "from keras import layers\n",
    "from keras.preprocessing.text import Tokenizer\n",
    "from keras.preprocessing.sequence import pad_sequences\n",
    "from keras.layers import Dense, Input, GlobalMaxPooling1D\n",
    "from keras.layers import Conv1D, MaxPooling1D, Embedding\n",
    "from keras.models import Model\n",
    "from sklearn.metrics import roc_auc_score\n",
    "from keras import regularizers"
   ]
  },
  {
   "cell_type": "code",
   "execution_count": 483,
   "metadata": {},
   "outputs": [
    {
     "ename": "KeyboardInterrupt",
     "evalue": "",
     "output_type": "error",
     "traceback": [
      "\u001b[1;31m---------------------------------------------------------------------------\u001b[0m",
      "\u001b[1;31mKeyboardInterrupt\u001b[0m                         Traceback (most recent call last)",
      "\u001b[1;32mc:\\Users\\leeev\\OneDrive\\Documents2\\GitHub\\subreddify\\ml_model.ipynb Cell 2'\u001b[0m in \u001b[0;36m<cell line: 2>\u001b[1;34m()\u001b[0m\n\u001b[0;32m      <a href='vscode-notebook-cell:/c%3A/Users/leeev/OneDrive/Documents2/GitHub/subreddify/ml_model.ipynb#ch0000002?line=0'>1</a>\u001b[0m word2vec \u001b[39m=\u001b[39m {}\n\u001b[0;32m      <a href='vscode-notebook-cell:/c%3A/Users/leeev/OneDrive/Documents2/GitHub/subreddify/ml_model.ipynb#ch0000002?line=1'>2</a>\u001b[0m \u001b[39mwith\u001b[39;00m \u001b[39mopen\u001b[39m (os\u001b[39m.\u001b[39mpath\u001b[39m.\u001b[39mjoin(\u001b[39m\"\u001b[39m\u001b[39mglove.twitter.27B.25d.txt\u001b[39m\u001b[39m\"\u001b[39m), encoding\u001b[39m=\u001b[39m\u001b[39m'\u001b[39m\u001b[39mutf-8\u001b[39m\u001b[39m'\u001b[39m) \u001b[39mas\u001b[39;00m f:\n\u001b[1;32m----> <a href='vscode-notebook-cell:/c%3A/Users/leeev/OneDrive/Documents2/GitHub/subreddify/ml_model.ipynb#ch0000002?line=2'>3</a>\u001b[0m     \u001b[39mfor\u001b[39;00m line \u001b[39min\u001b[39;00m f:\n\u001b[0;32m      <a href='vscode-notebook-cell:/c%3A/Users/leeev/OneDrive/Documents2/GitHub/subreddify/ml_model.ipynb#ch0000002?line=3'>4</a>\u001b[0m         values\u001b[39m=\u001b[39mline\u001b[39m.\u001b[39msplit()\n\u001b[0;32m      <a href='vscode-notebook-cell:/c%3A/Users/leeev/OneDrive/Documents2/GitHub/subreddify/ml_model.ipynb#ch0000002?line=4'>5</a>\u001b[0m         word\u001b[39m=\u001b[39mvalues[\u001b[39m0\u001b[39m]\n",
      "File \u001b[1;32mC:\\Python310\\lib\\codecs.py:319\u001b[0m, in \u001b[0;36mBufferedIncrementalDecoder.decode\u001b[1;34m(self, input, final)\u001b[0m\n\u001b[0;32m    <a href='file:///c%3A/Python310/lib/codecs.py?line=313'>314</a>\u001b[0m \u001b[39mdef\u001b[39;00m \u001b[39m_buffer_decode\u001b[39m(\u001b[39mself\u001b[39m, \u001b[39minput\u001b[39m, errors, final):\n\u001b[0;32m    <a href='file:///c%3A/Python310/lib/codecs.py?line=314'>315</a>\u001b[0m     \u001b[39m# Overwrite this method in subclasses: It must decode input\u001b[39;00m\n\u001b[0;32m    <a href='file:///c%3A/Python310/lib/codecs.py?line=315'>316</a>\u001b[0m     \u001b[39m# and return an (output, length consumed) tuple\u001b[39;00m\n\u001b[0;32m    <a href='file:///c%3A/Python310/lib/codecs.py?line=316'>317</a>\u001b[0m     \u001b[39mraise\u001b[39;00m \u001b[39mNotImplementedError\u001b[39;00m\n\u001b[1;32m--> <a href='file:///c%3A/Python310/lib/codecs.py?line=318'>319</a>\u001b[0m \u001b[39mdef\u001b[39;00m \u001b[39mdecode\u001b[39m(\u001b[39mself\u001b[39m, \u001b[39minput\u001b[39m, final\u001b[39m=\u001b[39m\u001b[39mFalse\u001b[39;00m):\n\u001b[0;32m    <a href='file:///c%3A/Python310/lib/codecs.py?line=319'>320</a>\u001b[0m     \u001b[39m# decode input (taking the buffer into account)\u001b[39;00m\n\u001b[0;32m    <a href='file:///c%3A/Python310/lib/codecs.py?line=320'>321</a>\u001b[0m     data \u001b[39m=\u001b[39m \u001b[39mself\u001b[39m\u001b[39m.\u001b[39mbuffer \u001b[39m+\u001b[39m \u001b[39minput\u001b[39m\n\u001b[0;32m    <a href='file:///c%3A/Python310/lib/codecs.py?line=321'>322</a>\u001b[0m     (result, consumed) \u001b[39m=\u001b[39m \u001b[39mself\u001b[39m\u001b[39m.\u001b[39m_buffer_decode(data, \u001b[39mself\u001b[39m\u001b[39m.\u001b[39merrors, final)\n",
      "\u001b[1;31mKeyboardInterrupt\u001b[0m: "
     ]
    }
   ],
   "source": [
    "word2vec = {}\n",
    "with open (os.path.join(\"glove.twitter.27B.25d.txt\"), encoding='utf-8') as f:\n",
    "    for line in f:\n",
    "        values=line.split()\n",
    "        word=values[0]\n",
    "        vec = np.asarray(values[1:], dtype=\"float32\")\n",
    "        word2vec[word] =vec    "
   ]
  },
  {
   "cell_type": "markdown",
   "metadata": {},
   "source": [
    "Set up the Data"
   ]
  },
  {
   "cell_type": "markdown",
   "metadata": {},
   "source": [
    "# BAG OF WORDS MODEL"
   ]
  },
  {
   "cell_type": "code",
   "execution_count": null,
   "metadata": {},
   "outputs": [
    {
     "data": {
      "text/html": [
       "<div>\n",
       "<style scoped>\n",
       "    .dataframe tbody tr th:only-of-type {\n",
       "        vertical-align: middle;\n",
       "    }\n",
       "\n",
       "    .dataframe tbody tr th {\n",
       "        vertical-align: top;\n",
       "    }\n",
       "\n",
       "    .dataframe thead th {\n",
       "        text-align: right;\n",
       "    }\n",
       "</style>\n",
       "<table border=\"1\" class=\"dataframe\">\n",
       "  <thead>\n",
       "    <tr style=\"text-align: right;\">\n",
       "      <th></th>\n",
       "      <th>Unnamed: 0</th>\n",
       "      <th>amitheasshole</th>\n",
       "      <th>todayilearned</th>\n",
       "      <th>explainlikeimfive</th>\n",
       "      <th>news</th>\n",
       "      <th>askreddit</th>\n",
       "      <th>cornell</th>\n",
       "    </tr>\n",
       "  </thead>\n",
       "  <tbody>\n",
       "    <tr>\n",
       "      <th>0</th>\n",
       "      <td>0</td>\n",
       "      <td>AITA for telling my wife the lock on my daught...</td>\n",
       "      <td>TIL that slaveholders in the US knew that ensl...</td>\n",
       "      <td>ELI5:How after 5000 years of humanity survivin...</td>\n",
       "      <td>Joe Biden elected president of the United States</td>\n",
       "      <td>People who haven't pooped in 2019 yet, why are...</td>\n",
       "      <td>Cornell Alert: Anyone know whats going on?</td>\n",
       "    </tr>\n",
       "    <tr>\n",
       "      <th>1</th>\n",
       "      <td>1</td>\n",
       "      <td>META: This sub is moving towards a value syste...</td>\n",
       "      <td>TIL During an interview with Stephen Hawking, ...</td>\n",
       "      <td>We call upon Reddit to take action against the...</td>\n",
       "      <td>Chauvin found guilty of murder, manslaughter i...</td>\n",
       "      <td>How would you feel about Reddit adding 3 NSFW ...</td>\n",
       "      <td>I threw up in my mask and had to continue taki...</td>\n",
       "    </tr>\n",
       "    <tr>\n",
       "      <th>2</th>\n",
       "      <td>2</td>\n",
       "      <td>UPDATE, AITA for despising my mentally handica...</td>\n",
       "      <td>TIL Genghis Khan would marry off a daughter to...</td>\n",
       "      <td>ELI5: How did we get to the point where laptop...</td>\n",
       "      <td>President Donald Trump says he has tested posi...</td>\n",
       "      <td>Would you watch a show where a billionaire CEO...</td>\n",
       "      <td>this professor gets it</td>\n",
       "    </tr>\n",
       "    <tr>\n",
       "      <th>3</th>\n",
       "      <td>3</td>\n",
       "      <td>AITA For suing my girlfriend after she had my ...</td>\n",
       "      <td>TIL the FBI has struggled to hire hackers beca...</td>\n",
       "      <td>ELI5: Stock Market Megathread</td>\n",
       "      <td>Blizzard Employees Staged a Walkout After the ...</td>\n",
       "      <td>What if God came down one day and said \"It's p...</td>\n",
       "      <td>An actual summary of the 97 page report</td>\n",
       "    </tr>\n",
       "    <tr>\n",
       "      <th>4</th>\n",
       "      <td>4</td>\n",
       "      <td>UPDATE: AITA for wanting to go to the funeral ...</td>\n",
       "      <td>TIL After Col. Shaw died in battle, Confederat...</td>\n",
       "      <td>ELI5: So how does the the human brain ignore t...</td>\n",
       "      <td>Trump has left the White House for the last ti...</td>\n",
       "      <td>How would you feel about a feature where if so...</td>\n",
       "      <td>I am a New Bus!</td>\n",
       "    </tr>\n",
       "  </tbody>\n",
       "</table>\n",
       "</div>"
      ],
      "text/plain": [
       "   Unnamed: 0                                      amitheasshole  \\\n",
       "0           0  AITA for telling my wife the lock on my daught...   \n",
       "1           1  META: This sub is moving towards a value syste...   \n",
       "2           2  UPDATE, AITA for despising my mentally handica...   \n",
       "3           3  AITA For suing my girlfriend after she had my ...   \n",
       "4           4  UPDATE: AITA for wanting to go to the funeral ...   \n",
       "\n",
       "                                       todayilearned  \\\n",
       "0  TIL that slaveholders in the US knew that ensl...   \n",
       "1  TIL During an interview with Stephen Hawking, ...   \n",
       "2  TIL Genghis Khan would marry off a daughter to...   \n",
       "3  TIL the FBI has struggled to hire hackers beca...   \n",
       "4  TIL After Col. Shaw died in battle, Confederat...   \n",
       "\n",
       "                                   explainlikeimfive  \\\n",
       "0  ELI5:How after 5000 years of humanity survivin...   \n",
       "1  We call upon Reddit to take action against the...   \n",
       "2  ELI5: How did we get to the point where laptop...   \n",
       "3                      ELI5: Stock Market Megathread   \n",
       "4  ELI5: So how does the the human brain ignore t...   \n",
       "\n",
       "                                                news  \\\n",
       "0   Joe Biden elected president of the United States   \n",
       "1  Chauvin found guilty of murder, manslaughter i...   \n",
       "2  President Donald Trump says he has tested posi...   \n",
       "3  Blizzard Employees Staged a Walkout After the ...   \n",
       "4  Trump has left the White House for the last ti...   \n",
       "\n",
       "                                           askreddit  \\\n",
       "0  People who haven't pooped in 2019 yet, why are...   \n",
       "1  How would you feel about Reddit adding 3 NSFW ...   \n",
       "2  Would you watch a show where a billionaire CEO...   \n",
       "3  What if God came down one day and said \"It's p...   \n",
       "4  How would you feel about a feature where if so...   \n",
       "\n",
       "                                             cornell  \n",
       "0         Cornell Alert: Anyone know whats going on?  \n",
       "1  I threw up in my mask and had to continue taki...  \n",
       "2                             this professor gets it  \n",
       "3            An actual summary of the 97 page report  \n",
       "4                                    I am a New Bus!  "
      ]
     },
     "execution_count": 455,
     "metadata": {},
     "output_type": "execute_result"
    }
   ],
   "source": [
    "df = pd.read_csv(\"data/curated_extreme_data.csv\")\n",
    "df.head()"
   ]
  },
  {
   "cell_type": "code",
   "execution_count": null,
   "metadata": {},
   "outputs": [
    {
     "data": {
      "text/html": [
       "<div>\n",
       "<style scoped>\n",
       "    .dataframe tbody tr th:only-of-type {\n",
       "        vertical-align: middle;\n",
       "    }\n",
       "\n",
       "    .dataframe tbody tr th {\n",
       "        vertical-align: top;\n",
       "    }\n",
       "\n",
       "    .dataframe thead th {\n",
       "        text-align: right;\n",
       "    }\n",
       "</style>\n",
       "<table border=\"1\" class=\"dataframe\">\n",
       "  <thead>\n",
       "    <tr style=\"text-align: right;\">\n",
       "      <th></th>\n",
       "      <th>title</th>\n",
       "      <th>index</th>\n",
       "    </tr>\n",
       "  </thead>\n",
       "  <tbody>\n",
       "    <tr>\n",
       "      <th>0</th>\n",
       "      <td>AITA for telling my wife the lock on my daught...</td>\n",
       "      <td>0.0</td>\n",
       "    </tr>\n",
       "    <tr>\n",
       "      <th>1</th>\n",
       "      <td>META: This sub is moving towards a value syste...</td>\n",
       "      <td>0.0</td>\n",
       "    </tr>\n",
       "    <tr>\n",
       "      <th>2</th>\n",
       "      <td>UPDATE, AITA for despising my mentally handica...</td>\n",
       "      <td>0.0</td>\n",
       "    </tr>\n",
       "    <tr>\n",
       "      <th>3</th>\n",
       "      <td>AITA For suing my girlfriend after she had my ...</td>\n",
       "      <td>0.0</td>\n",
       "    </tr>\n",
       "    <tr>\n",
       "      <th>4</th>\n",
       "      <td>UPDATE: AITA for wanting to go to the funeral ...</td>\n",
       "      <td>0.0</td>\n",
       "    </tr>\n",
       "  </tbody>\n",
       "</table>\n",
       "</div>"
      ],
      "text/plain": [
       "                                               title  index\n",
       "0  AITA for telling my wife the lock on my daught...    0.0\n",
       "1  META: This sub is moving towards a value syste...    0.0\n",
       "2  UPDATE, AITA for despising my mentally handica...    0.0\n",
       "3  AITA For suing my girlfriend after she had my ...    0.0\n",
       "4  UPDATE: AITA for wanting to go to the funeral ...    0.0"
      ]
     },
     "execution_count": 456,
     "metadata": {},
     "output_type": "execute_result"
    }
   ],
   "source": [
    "possible_labels = ['amitheasshole','todayilearned','explainlikeimfive','news','askreddit','cornell']\n",
    "\n",
    "train = pd.DataFrame()\n",
    "train['title'] = []\n",
    "train['index'] = []\n",
    "\n",
    "for label in df.columns[1:]:\n",
    "    for sentence in df[label]:\n",
    "        train = train.append({'title': sentence, 'index':possible_labels.index(label)},ignore_index=True)\n",
    "        train = train.fillna(0)\n",
    "\n",
    "train.head()"
   ]
  },
  {
   "cell_type": "code",
   "execution_count": null,
   "metadata": {},
   "outputs": [
    {
     "name": "stdout",
     "output_type": "stream",
     "text": [
      "X_train dimension=  (4795,)\n",
      "X_test dimension=  (1199,)\n",
      "y_train dimension=  (4795,)\n",
      "y_train dimension=  (1199,)\n"
     ]
    }
   ],
   "source": [
    "import numpy as np\n",
    "from sklearn import model_selection\n",
    "from sklearn import linear_model\n",
    "from sklearn.feature_extraction.text import CountVectorizer\n",
    " \n",
    "vectorizer = CountVectorizer()\n",
    "\n",
    "X = train['title']\n",
    "y = train['index']\n",
    "\n",
    "X = np.array([item if not isinstance(item, int) else str(item) for item in X])\n",
    "\n",
    "X_train, X_test, y_train, y_test = model_selection.train_test_split(X, y, test_size= 0.2, random_state = 1)\n",
    "\n",
    "print('X_train dimension= ', X_train.shape)\n",
    "print('X_test dimension= ', X_test.shape)\n",
    "print('y_train dimension= ', y_train.shape)\n",
    "print('y_train dimension= ', y_test.shape)\n",
    "\n",
    "X_train = vectorizer.fit_transform(X_train)\n",
    "X_test = vectorizer.transform(X_test)"
   ]
  },
  {
   "cell_type": "code",
   "execution_count": null,
   "metadata": {},
   "outputs": [
    {
     "data": {
      "text/plain": [
       "LogisticRegression(multi_class='ovr', solver='liblinear')"
      ]
     },
     "execution_count": 458,
     "metadata": {},
     "output_type": "execute_result"
    }
   ],
   "source": [
    "lm = linear_model.LogisticRegression(multi_class='ovr', solver='liblinear')\n",
    "lm.fit(X_train, y_train)"
   ]
  },
  {
   "cell_type": "code",
   "execution_count": null,
   "metadata": {},
   "outputs": [
    {
     "data": {
      "text/plain": [
       "0.957464553794829"
      ]
     },
     "execution_count": 459,
     "metadata": {},
     "output_type": "execute_result"
    }
   ],
   "source": [
    "(lm.predict(X_test) == y_test).mean()"
   ]
  },
  {
   "cell_type": "code",
   "execution_count": 504,
   "metadata": {},
   "outputs": [
    {
     "name": "stdout",
     "output_type": "stream",
     "text": [
      "Message: Saw Martha Pollack sleeping in the cocktail lounge\n",
      "cornell\n"
     ]
    }
   ],
   "source": [
    "test_title = \"Saw Martha Pollack sleeping in the cocktail lounge\"\n",
    "index = int(lm.predict(vectorizer.transform([test_title]))[0])\n",
    "print('Message: ' + test_title)\n",
    "print(possible_labels[index])"
   ]
  },
  {
   "cell_type": "markdown",
   "metadata": {},
   "source": [
    "Preprocessing and Tokenizing"
   ]
  },
  {
   "cell_type": "code",
   "execution_count": 505,
   "metadata": {},
   "outputs": [],
   "source": [
    "MAX_SEQUENCE_LENGTH= 30\n",
    "MAX_VOCAB_SIZE =20000\n",
    "EMBEDDING_DIM=25\n",
    "VALIDATION_SPLIT =0.2\n",
    "BATCH_SIZE =200\n",
    "EPOCHS = 20"
   ]
  },
  {
   "cell_type": "code",
   "execution_count": 506,
   "metadata": {},
   "outputs": [
    {
     "ename": "KeyError",
     "evalue": "\"None of [Index(['amitheasshole', 'todayilearned', 'explainlikeimfive', 'news',\\n       'askreddit', 'cornell'],\\n      dtype='object')] are in the [columns]\"",
     "output_type": "error",
     "traceback": [
      "\u001b[1;31m---------------------------------------------------------------------------\u001b[0m",
      "\u001b[1;31mKeyError\u001b[0m                                  Traceback (most recent call last)",
      "\u001b[1;32mc:\\Users\\leeev\\OneDrive\\Documents2\\GitHub\\subreddify\\ml_model.ipynb Cell 13'\u001b[0m in \u001b[0;36m<cell line: 5>\u001b[1;34m()\u001b[0m\n\u001b[0;32m      <a href='vscode-notebook-cell:/c%3A/Users/leeev/OneDrive/Documents2/GitHub/subreddify/ml_model.ipynb#ch0000008?line=2'>3</a>\u001b[0m sentences \u001b[39m=\u001b[39m train[\u001b[39m\"\u001b[39m\u001b[39mtitle\u001b[39m\u001b[39m\"\u001b[39m]\u001b[39m.\u001b[39mfillna(\u001b[39m\"\u001b[39m\u001b[39mNO_TITLE_EMPTY\u001b[39m\u001b[39m\"\u001b[39m)\u001b[39m.\u001b[39mvalues\n\u001b[0;32m      <a href='vscode-notebook-cell:/c%3A/Users/leeev/OneDrive/Documents2/GitHub/subreddify/ml_model.ipynb#ch0000008?line=3'>4</a>\u001b[0m sentences \u001b[39m=\u001b[39m [item \u001b[39mfor\u001b[39;00m item \u001b[39min\u001b[39;00m sentences \u001b[39mif\u001b[39;00m \u001b[39mnot\u001b[39;00m \u001b[39misinstance\u001b[39m(item, \u001b[39mint\u001b[39m)]\n\u001b[1;32m----> <a href='vscode-notebook-cell:/c%3A/Users/leeev/OneDrive/Documents2/GitHub/subreddify/ml_model.ipynb#ch0000008?line=4'>5</a>\u001b[0m targets \u001b[39m=\u001b[39m train[possible_labels]\u001b[39m.\u001b[39mvalues\n\u001b[0;32m      <a href='vscode-notebook-cell:/c%3A/Users/leeev/OneDrive/Documents2/GitHub/subreddify/ml_model.ipynb#ch0000008?line=6'>7</a>\u001b[0m tokenizer\u001b[39m=\u001b[39m Tokenizer(num_words\u001b[39m=\u001b[39mMAX_VOCAB_SIZE)\n\u001b[0;32m      <a href='vscode-notebook-cell:/c%3A/Users/leeev/OneDrive/Documents2/GitHub/subreddify/ml_model.ipynb#ch0000008?line=7'>8</a>\u001b[0m tokenizer\u001b[39m.\u001b[39mfit_on_texts(sentences)\n",
      "File \u001b[1;32m~\\AppData\\Roaming\\Python\\Python310\\site-packages\\pandas\\core\\frame.py:3464\u001b[0m, in \u001b[0;36mDataFrame.__getitem__\u001b[1;34m(self, key)\u001b[0m\n\u001b[0;32m   <a href='file:///c%3A/Users/leeev/AppData/Roaming/Python/Python310/site-packages/pandas/core/frame.py?line=3461'>3462</a>\u001b[0m     \u001b[39mif\u001b[39;00m is_iterator(key):\n\u001b[0;32m   <a href='file:///c%3A/Users/leeev/AppData/Roaming/Python/Python310/site-packages/pandas/core/frame.py?line=3462'>3463</a>\u001b[0m         key \u001b[39m=\u001b[39m \u001b[39mlist\u001b[39m(key)\n\u001b[1;32m-> <a href='file:///c%3A/Users/leeev/AppData/Roaming/Python/Python310/site-packages/pandas/core/frame.py?line=3463'>3464</a>\u001b[0m     indexer \u001b[39m=\u001b[39m \u001b[39mself\u001b[39;49m\u001b[39m.\u001b[39;49mloc\u001b[39m.\u001b[39;49m_get_listlike_indexer(key, axis\u001b[39m=\u001b[39;49m\u001b[39m1\u001b[39;49m)[\u001b[39m1\u001b[39m]\n\u001b[0;32m   <a href='file:///c%3A/Users/leeev/AppData/Roaming/Python/Python310/site-packages/pandas/core/frame.py?line=3465'>3466</a>\u001b[0m \u001b[39m# take() does not accept boolean indexers\u001b[39;00m\n\u001b[0;32m   <a href='file:///c%3A/Users/leeev/AppData/Roaming/Python/Python310/site-packages/pandas/core/frame.py?line=3466'>3467</a>\u001b[0m \u001b[39mif\u001b[39;00m \u001b[39mgetattr\u001b[39m(indexer, \u001b[39m\"\u001b[39m\u001b[39mdtype\u001b[39m\u001b[39m\"\u001b[39m, \u001b[39mNone\u001b[39;00m) \u001b[39m==\u001b[39m \u001b[39mbool\u001b[39m:\n",
      "File \u001b[1;32m~\\AppData\\Roaming\\Python\\Python310\\site-packages\\pandas\\core\\indexing.py:1314\u001b[0m, in \u001b[0;36m_LocIndexer._get_listlike_indexer\u001b[1;34m(self, key, axis)\u001b[0m\n\u001b[0;32m   <a href='file:///c%3A/Users/leeev/AppData/Roaming/Python/Python310/site-packages/pandas/core/indexing.py?line=1310'>1311</a>\u001b[0m \u001b[39melse\u001b[39;00m:\n\u001b[0;32m   <a href='file:///c%3A/Users/leeev/AppData/Roaming/Python/Python310/site-packages/pandas/core/indexing.py?line=1311'>1312</a>\u001b[0m     keyarr, indexer, new_indexer \u001b[39m=\u001b[39m ax\u001b[39m.\u001b[39m_reindex_non_unique(keyarr)\n\u001b[1;32m-> <a href='file:///c%3A/Users/leeev/AppData/Roaming/Python/Python310/site-packages/pandas/core/indexing.py?line=1313'>1314</a>\u001b[0m \u001b[39mself\u001b[39;49m\u001b[39m.\u001b[39;49m_validate_read_indexer(keyarr, indexer, axis)\n\u001b[0;32m   <a href='file:///c%3A/Users/leeev/AppData/Roaming/Python/Python310/site-packages/pandas/core/indexing.py?line=1315'>1316</a>\u001b[0m \u001b[39mif\u001b[39;00m needs_i8_conversion(ax\u001b[39m.\u001b[39mdtype) \u001b[39mor\u001b[39;00m \u001b[39misinstance\u001b[39m(\n\u001b[0;32m   <a href='file:///c%3A/Users/leeev/AppData/Roaming/Python/Python310/site-packages/pandas/core/indexing.py?line=1316'>1317</a>\u001b[0m     ax, (IntervalIndex, CategoricalIndex)\n\u001b[0;32m   <a href='file:///c%3A/Users/leeev/AppData/Roaming/Python/Python310/site-packages/pandas/core/indexing.py?line=1317'>1318</a>\u001b[0m ):\n\u001b[0;32m   <a href='file:///c%3A/Users/leeev/AppData/Roaming/Python/Python310/site-packages/pandas/core/indexing.py?line=1318'>1319</a>\u001b[0m     \u001b[39m# For CategoricalIndex take instead of reindex to preserve dtype.\u001b[39;00m\n\u001b[0;32m   <a href='file:///c%3A/Users/leeev/AppData/Roaming/Python/Python310/site-packages/pandas/core/indexing.py?line=1319'>1320</a>\u001b[0m     \u001b[39m#  For IntervalIndex this is to map integers to the Intervals they match to.\u001b[39;00m\n\u001b[0;32m   <a href='file:///c%3A/Users/leeev/AppData/Roaming/Python/Python310/site-packages/pandas/core/indexing.py?line=1320'>1321</a>\u001b[0m     keyarr \u001b[39m=\u001b[39m ax\u001b[39m.\u001b[39mtake(indexer)\n",
      "File \u001b[1;32m~\\AppData\\Roaming\\Python\\Python310\\site-packages\\pandas\\core\\indexing.py:1374\u001b[0m, in \u001b[0;36m_LocIndexer._validate_read_indexer\u001b[1;34m(self, key, indexer, axis)\u001b[0m\n\u001b[0;32m   <a href='file:///c%3A/Users/leeev/AppData/Roaming/Python/Python310/site-packages/pandas/core/indexing.py?line=1371'>1372</a>\u001b[0m     \u001b[39mif\u001b[39;00m use_interval_msg:\n\u001b[0;32m   <a href='file:///c%3A/Users/leeev/AppData/Roaming/Python/Python310/site-packages/pandas/core/indexing.py?line=1372'>1373</a>\u001b[0m         key \u001b[39m=\u001b[39m \u001b[39mlist\u001b[39m(key)\n\u001b[1;32m-> <a href='file:///c%3A/Users/leeev/AppData/Roaming/Python/Python310/site-packages/pandas/core/indexing.py?line=1373'>1374</a>\u001b[0m     \u001b[39mraise\u001b[39;00m \u001b[39mKeyError\u001b[39;00m(\u001b[39mf\u001b[39m\u001b[39m\"\u001b[39m\u001b[39mNone of [\u001b[39m\u001b[39m{\u001b[39;00mkey\u001b[39m}\u001b[39;00m\u001b[39m] are in the [\u001b[39m\u001b[39m{\u001b[39;00maxis_name\u001b[39m}\u001b[39;00m\u001b[39m]\u001b[39m\u001b[39m\"\u001b[39m)\n\u001b[0;32m   <a href='file:///c%3A/Users/leeev/AppData/Roaming/Python/Python310/site-packages/pandas/core/indexing.py?line=1375'>1376</a>\u001b[0m not_found \u001b[39m=\u001b[39m \u001b[39mlist\u001b[39m(ensure_index(key)[missing_mask\u001b[39m.\u001b[39mnonzero()[\u001b[39m0\u001b[39m]]\u001b[39m.\u001b[39munique())\n\u001b[0;32m   <a href='file:///c%3A/Users/leeev/AppData/Roaming/Python/Python310/site-packages/pandas/core/indexing.py?line=1376'>1377</a>\u001b[0m \u001b[39mraise\u001b[39;00m \u001b[39mKeyError\u001b[39;00m(\u001b[39mf\u001b[39m\u001b[39m\"\u001b[39m\u001b[39m{\u001b[39;00mnot_found\u001b[39m}\u001b[39;00m\u001b[39m not in index\u001b[39m\u001b[39m\"\u001b[39m)\n",
      "\u001b[1;31mKeyError\u001b[0m: \"None of [Index(['amitheasshole', 'todayilearned', 'explainlikeimfive', 'news',\\n       'askreddit', 'cornell'],\\n      dtype='object')] are in the [columns]\""
     ]
    }
   ],
   "source": [
    "from keras.preprocessing.text import Tokenizer\n",
    "\n",
    "sentences = train[\"title\"].fillna(\"NO_TITLE_EMPTY\").values\n",
    "sentences = [item for item in sentences if not isinstance(item, int)]\n",
    "targets = train[possible_labels].values\n",
    "\n",
    "tokenizer= Tokenizer(num_words=MAX_VOCAB_SIZE)\n",
    "tokenizer.fit_on_texts(sentences)\n",
    "sequences = tokenizer.texts_to_sequences(sentences)\n",
    "#sequences\n",
    "#tokenizer.word_index\n",
    "data = pad_sequences(sequences, maxlen=MAX_SEQUENCE_LENGTH)"
   ]
  },
  {
   "cell_type": "markdown",
   "metadata": {},
   "source": [
    "Preprocessing the Data Text"
   ]
  },
  {
   "cell_type": "code",
   "execution_count": null,
   "metadata": {},
   "outputs": [
    {
     "name": "stdout",
     "output_type": "stream",
     "text": [
      "max sequence length: 62\n",
      "min sequence length: 0\n",
      "median sequence length: 15\n",
      "max word index: 14263\n",
      "Found 14263 unique tokens.\n"
     ]
    }
   ],
   "source": [
    "print(\"max sequence length:\", max(len(s) for s in sequences))\n",
    "print(\"min sequence length:\", min(len(s) for s in sequences))\n",
    "s = sorted(len(s) for s in sequences)\n",
    "print(\"median sequence length:\", s[len(s) // 2])\n",
    "\n",
    "print(\"max word index:\", max(max(seq) for seq in sequences if len(seq) > 0))\n",
    "\n",
    "\n",
    "# get word -> integer mapping\n",
    "word2idx = tokenizer.word_index\n",
    "print('Found %s unique tokens.' % len(word2idx))"
   ]
  },
  {
   "cell_type": "code",
   "execution_count": null,
   "metadata": {},
   "outputs": [],
   "source": [
    "num_words = min(MAX_VOCAB_SIZE, len(word2idx) + 1)\n",
    "embedding_matrix = np.zeros((num_words, EMBEDDING_DIM))\n",
    "\n",
    "for word, i in word2idx.items():\n",
    "  if i < MAX_VOCAB_SIZE:\n",
    "    embedding_vector = word2vec.get(word)\n",
    "    if embedding_vector is not None:\n",
    "      # words not found in embedding index will be all zeros.\n",
    "      embedding_matrix[i] = embedding_vector"
   ]
  },
  {
   "cell_type": "code",
   "execution_count": null,
   "metadata": {},
   "outputs": [],
   "source": [
    "embedding_layer = Embedding(\n",
    "    num_words,\n",
    "    EMBEDDING_DIM,\n",
    "    weights=[embedding_matrix],\n",
    "    input_length=MAX_SEQUENCE_LENGTH,\n",
    "    trainable=False\n",
    ")"
   ]
  },
  {
   "cell_type": "code",
   "execution_count": null,
   "metadata": {},
   "outputs": [],
   "source": [
    "input_ = Input(shape=(MAX_SEQUENCE_LENGTH,)) #Dimensions\n",
    "\n",
    "x=embedding_layer(input_)\n",
    "\n",
    "x=Dense(128,activation=\"relu\",kernel_regularizer=regularizers.L1L2(l1=1e-5, l2=1e-4),\n",
    "    bias_regularizer=regularizers.L2(1e-4),\n",
    "    activity_regularizer=regularizers.L2(1e-5))(x)\n",
    "\n",
    "\n",
    "x=Conv1D(128,2,activation=\"relu\")(x)\n",
    "x=MaxPooling1D(2)(x)\n",
    "\n",
    "x=Conv1D(128,2,activation=\"relu\")(x)\n",
    "x=MaxPooling1D(2)(x)\n",
    "\n",
    "x=Conv1D(128,2,activation=\"relu\")(x)\n",
    "x=GlobalMaxPooling1D()(x)\n",
    "\n",
    "output=Dense(len(possible_labels), activation=\"sigmoid\")(x)"
   ]
  },
  {
   "cell_type": "code",
   "execution_count": null,
   "metadata": {},
   "outputs": [],
   "source": [
    "model = Model(input_, output)\n",
    "model.compile(\n",
    "  loss='binary_crossentropy',\n",
    "  optimizer='rmsprop',\n",
    "  metrics=['accuracy']\n",
    ")"
   ]
  },
  {
   "cell_type": "markdown",
   "metadata": {},
   "source": [
    "## Train the Model"
   ]
  },
  {
   "cell_type": "code",
   "execution_count": null,
   "metadata": {},
   "outputs": [
    {
     "name": "stdout",
     "output_type": "stream",
     "text": [
      "Epoch 1/10\n",
      "24/24 [==============================] - 3s 63ms/step - loss: 0.3511 - accuracy: 0.5989 - val_loss: 0.8975 - val_accuracy: 0.0608\n",
      "Epoch 2/10\n",
      "24/24 [==============================] - 1s 54ms/step - loss: 0.2163 - accuracy: 0.7786 - val_loss: 0.9067 - val_accuracy: 0.1333\n",
      "Epoch 3/10\n",
      "24/24 [==============================] - 1s 51ms/step - loss: 0.1862 - accuracy: 0.8198 - val_loss: 1.0614 - val_accuracy: 0.0852\n",
      "Epoch 4/10\n",
      "24/24 [==============================] - 1s 54ms/step - loss: 0.1644 - accuracy: 0.8529 - val_loss: 1.0208 - val_accuracy: 0.1646\n",
      "Epoch 5/10\n",
      "24/24 [==============================] - 1s 59ms/step - loss: 0.1443 - accuracy: 0.8717 - val_loss: 1.2013 - val_accuracy: 0.1156\n",
      "Epoch 6/10\n",
      "24/24 [==============================] - 1s 60ms/step - loss: 0.1384 - accuracy: 0.8723 - val_loss: 1.2114 - val_accuracy: 0.1460\n",
      "Epoch 7/10\n",
      "24/24 [==============================] - 1s 57ms/step - loss: 0.1256 - accuracy: 0.8947 - val_loss: 1.3580 - val_accuracy: 0.1342\n",
      "Epoch 8/10\n",
      "24/24 [==============================] - 1s 50ms/step - loss: 0.1188 - accuracy: 0.9029 - val_loss: 1.4655 - val_accuracy: 0.1814\n",
      "Epoch 9/10\n",
      "24/24 [==============================] - 1s 52ms/step - loss: 0.1157 - accuracy: 0.9021 - val_loss: 1.4548 - val_accuracy: 0.1553\n",
      "Epoch 10/10\n",
      "24/24 [==============================] - 1s 51ms/step - loss: 0.1070 - accuracy: 0.9095 - val_loss: 1.6602 - val_accuracy: 0.1612\n"
     ]
    }
   ],
   "source": [
    "r = model.fit(\n",
    "  data,\n",
    "  targets,\n",
    "  batch_size=BATCH_SIZE,\n",
    "  epochs=EPOCHS,\n",
    "  validation_split=VALIDATION_SPLIT\n",
    ")"
   ]
  },
  {
   "cell_type": "code",
   "execution_count": null,
   "metadata": {},
   "outputs": [
    {
     "data": {
      "text/plain": [
       "<matplotlib.legend.Legend at 0x2080b70bac0>"
      ]
     },
     "execution_count": 261,
     "metadata": {},
     "output_type": "execute_result"
    },
    {
     "data": {
      "image/png": "[encoded data removed]",
      "text/plain": [
       "<Figure size 432x288 with 1 Axes>"
      ]
     },
     "metadata": {
      "needs_background": "light"
     },
     "output_type": "display_data"
    }
   ],
   "source": [
    "acc = r.history['accuracy']\n",
    "val_acc = r.history['val_accuracy']\n",
    "loss = r.history['loss']\n",
    "val_loss = r.history['val_loss']\n",
    "plt.plot(acc,label=\"training acc\")\n",
    "plt.plot(val_acc,label=\"validation acc\")\n",
    "plt.legend()"
   ]
  },
  {
   "cell_type": "code",
   "execution_count": null,
   "metadata": {},
   "outputs": [
    {
     "data": {
      "text/plain": [
       "<matplotlib.legend.Legend at 0x2080827ff10>"
      ]
     },
     "execution_count": 262,
     "metadata": {},
     "output_type": "execute_result"
    },
    {
     "data": {
      "image/png": "[encoded data removed]",
      "text/plain": [
       "<Figure size 432x288 with 1 Axes>"
      ]
     },
     "metadata": {
      "needs_background": "light"
     },
     "output_type": "display_data"
    }
   ],
   "source": [
    "plt.plot(loss,label=\"training loss\")\n",
    "plt.plot(val_loss,label=\"validation loss\")\n",
    "plt.legend()"
   ]
  },
  {
   "cell_type": "code",
   "execution_count": null,
   "metadata": {},
   "outputs": [],
   "source": [
    "test_text = \"TIFU by not making a good model\"\n",
    "test_seq = tokenizer.texts_to_sequences(test_text)\n",
    "test_pad = pad_sequences(test_seq,maxlen=MAX_SEQUENCE_LENGTH)\n",
    "subreddits=model.predict(test_pad)[0]"
   ]
  },
  {
   "cell_type": "code",
   "execution_count": null,
   "metadata": {},
   "outputs": [
    {
     "data": {
      "text/plain": [
       "6"
      ]
     },
     "execution_count": 270,
     "metadata": {},
     "output_type": "execute_result"
    }
   ],
   "source": [
    "len(possible_labels)"
   ]
  },
  {
   "cell_type": "code",
   "execution_count": null,
   "metadata": {},
   "outputs": [
    {
     "name": "stdout",
     "output_type": "stream",
     "text": [
      "0.37851483 amitheasshole\n",
      "0.33201912 todayilearned\n",
      "0.46514106 explainlikeimfive\n",
      "0.48738322 news\n",
      "0.443127 askreddit\n",
      "0.21631321 cornell\n"
     ]
    }
   ],
   "source": [
    "for i in range(0,6):\n",
    "    print(subreddits[i] ,possible_labels[i])"
   ]
  },
  {
   "cell_type": "code",
   "execution_count": null,
   "metadata": {},
   "outputs": [],
   "source": [
    "from keras import Sequential\n",
    "from keras.layers import Dense, Activation, Embedding, Flatten, GlobalMaxPool1D, Dropout, Conv1D\n",
    "filter_length = 300\n",
    "model = Sequential()\n",
    "model.add(Embedding(MAX_VOCAB_SIZE, 20, input_length=MAX_SEQUENCE_LENGTH))\n",
    "model.add(Conv1D(filter_length, 3, padding='valid', activation='relu', strides=1))\n",
    "# model.add(GlobalMaxPool1D())\n",
    "model.add(Flatten())\n",
    "model.add(Dense(1024, activation='relu'))\n",
    "model.add(Dense(1024, activation='relu'))\n",
    "model.add(Dense(len(possible_labels), kernel_regularizer=regularizers.L1L2(l1=0, l2=0),\n",
    "    bias_regularizer=regularizers.L2(0),\n",
    "    activity_regularizer=regularizers.L2(0)),)\n",
    "model.add(Activation('softmax'))\n",
    "model.compile(optimizer='adam', loss='categorical_crossentropy', metrics=[tf.keras.metrics.Accuracy()])"
   ]
  },
  {
   "cell_type": "code",
   "execution_count": null,
   "metadata": {},
   "outputs": [],
   "source": [
    "preds = model.predict(data)"
   ]
  },
  {
   "cell_type": "code",
   "execution_count": null,
   "metadata": {},
   "outputs": [
    {
     "data": {
      "text/plain": [
       "array([[0.16708349, 0.16757613, 0.16665903, 0.16510461, 0.16647993,\n",
       "        0.16709676],\n",
       "       [0.16633329, 0.16755427, 0.16724212, 0.16742693, 0.16508956,\n",
       "        0.16635382],\n",
       "       [0.1666036 , 0.16705026, 0.16710675, 0.1662994 , 0.16647196,\n",
       "        0.166468  ],\n",
       "       ...,\n",
       "       [0.1667107 , 0.16699247, 0.16665937, 0.16702671, 0.16670103,\n",
       "        0.16590966],\n",
       "       [0.1659875 , 0.16693318, 0.16721632, 0.16656658, 0.16742608,\n",
       "        0.16587032],\n",
       "       [0.16535059, 0.1680991 , 0.166688  , 0.16599217, 0.16750322,\n",
       "        0.16636692]], dtype=float32)"
      ]
     },
     "execution_count": 419,
     "metadata": {},
     "output_type": "execute_result"
    }
   ],
   "source": [
    "preds"
   ]
  },
  {
   "cell_type": "code",
   "execution_count": null,
   "metadata": {},
   "outputs": [
    {
     "name": "stdout",
     "output_type": "stream",
     "text": [
      "Epoch 1/60\n",
      "24/24 [==============================] - 4s 140ms/step - loss: 1.7875 - accuracy: 0.0000e+00 - val_loss: 1.8314 - val_accuracy: 0.0000e+00\n",
      "Epoch 2/60\n",
      "24/24 [==============================] - 3s 131ms/step - loss: 1.7725 - accuracy: 0.0000e+00 - val_loss: 1.8929 - val_accuracy: 0.0000e+00\n",
      "Epoch 3/60\n",
      "24/24 [==============================] - 3s 140ms/step - loss: 1.7572 - accuracy: 0.0000e+00 - val_loss: 1.9550 - val_accuracy: 0.0000e+00\n",
      "Epoch 4/60\n",
      "24/24 [==============================] - 3s 140ms/step - loss: 1.7430 - accuracy: 0.0000e+00 - val_loss: 2.0174 - val_accuracy: 0.0000e+00\n",
      "Epoch 5/60\n",
      "24/24 [==============================] - 3s 132ms/step - loss: 1.7296 - accuracy: 0.0000e+00 - val_loss: 2.0810 - val_accuracy: 0.0000e+00\n",
      "Epoch 6/60\n",
      "24/24 [==============================] - 3s 135ms/step - loss: 1.7168 - accuracy: 0.0000e+00 - val_loss: 2.1455 - val_accuracy: 0.0000e+00\n",
      "Epoch 7/60\n",
      "24/24 [==============================] - 4s 148ms/step - loss: 1.7043 - accuracy: 0.0000e+00 - val_loss: 2.2116 - val_accuracy: 0.0000e+00\n",
      "Epoch 8/60\n",
      "24/24 [==============================] - 4s 156ms/step - loss: 1.6921 - accuracy: 0.0000e+00 - val_loss: 2.2802 - val_accuracy: 0.0000e+00\n",
      "Epoch 9/60\n",
      "24/24 [==============================] - 3s 135ms/step - loss: 1.6797 - accuracy: 0.0000e+00 - val_loss: 2.3539 - val_accuracy: 0.0000e+00\n",
      "Epoch 10/60\n",
      "24/24 [==============================] - 3s 130ms/step - loss: 1.6669 - accuracy: 0.0000e+00 - val_loss: 2.4313 - val_accuracy: 0.0000e+00\n",
      "Epoch 11/60\n",
      "24/24 [==============================] - 3s 136ms/step - loss: 1.6533 - accuracy: 0.0000e+00 - val_loss: 2.5136 - val_accuracy: 0.0000e+00\n",
      "Epoch 12/60\n",
      "24/24 [==============================] - 4s 150ms/step - loss: 1.6384 - accuracy: 0.0000e+00 - val_loss: 2.6024 - val_accuracy: 0.0000e+00\n",
      "Epoch 13/60\n",
      "24/24 [==============================] - 3s 140ms/step - loss: 1.6220 - accuracy: 0.0000e+00 - val_loss: 2.6997 - val_accuracy: 0.0000e+00\n",
      "Epoch 14/60\n",
      "24/24 [==============================] - 3s 136ms/step - loss: 1.6034 - accuracy: 0.0000e+00 - val_loss: 2.8077 - val_accuracy: 0.0000e+00\n",
      "Epoch 15/60\n",
      "24/24 [==============================] - 3s 146ms/step - loss: 1.5821 - accuracy: 0.0000e+00 - val_loss: 2.9257 - val_accuracy: 0.0000e+00\n",
      "Epoch 16/60\n",
      "24/24 [==============================] - 4s 163ms/step - loss: 1.5574 - accuracy: 0.0000e+00 - val_loss: 3.0609 - val_accuracy: 0.0000e+00\n",
      "Epoch 17/60\n",
      "24/24 [==============================] - 3s 139ms/step - loss: 1.5292 - accuracy: 0.0000e+00 - val_loss: 3.2072 - val_accuracy: 0.0000e+00\n",
      "Epoch 18/60\n",
      "24/24 [==============================] - 3s 133ms/step - loss: 1.4975 - accuracy: 0.0000e+00 - val_loss: 3.3769 - val_accuracy: 0.0000e+00\n",
      "Epoch 19/60\n",
      "24/24 [==============================] - 3s 133ms/step - loss: 1.4628 - accuracy: 0.0000e+00 - val_loss: 3.5573 - val_accuracy: 0.0000e+00\n",
      "Epoch 20/60\n",
      "24/24 [==============================] - 3s 133ms/step - loss: 1.4276 - accuracy: 0.0000e+00 - val_loss: 3.7679 - val_accuracy: 0.0000e+00\n",
      "Epoch 21/60\n",
      "24/24 [==============================] - 3s 135ms/step - loss: 1.3942 - accuracy: 0.0000e+00 - val_loss: 3.9825 - val_accuracy: 0.0000e+00\n",
      "Epoch 22/60\n",
      "24/24 [==============================] - 3s 136ms/step - loss: 1.3643 - accuracy: 0.0000e+00 - val_loss: 4.2137 - val_accuracy: 0.0000e+00\n",
      "Epoch 23/60\n",
      "24/24 [==============================] - 3s 132ms/step - loss: 1.3406 - accuracy: 0.0000e+00 - val_loss: 4.4334 - val_accuracy: 0.0000e+00\n",
      "Epoch 24/60\n",
      "24/24 [==============================] - 3s 132ms/step - loss: 1.3226 - accuracy: 0.0000e+00 - val_loss: 4.6471 - val_accuracy: 0.0000e+00\n",
      "Epoch 25/60\n",
      "24/24 [==============================] - 3s 139ms/step - loss: 1.3098 - accuracy: 0.0000e+00 - val_loss: 4.8405 - val_accuracy: 0.0000e+00\n",
      "Epoch 26/60\n",
      "24/24 [==============================] - 3s 133ms/step - loss: 1.3012 - accuracy: 0.0000e+00 - val_loss: 5.0044 - val_accuracy: 0.0000e+00\n",
      "Epoch 27/60\n",
      "24/24 [==============================] - 3s 142ms/step - loss: 1.2952 - accuracy: 0.0000e+00 - val_loss: 5.1706 - val_accuracy: 0.0000e+00\n",
      "Epoch 28/60\n",
      " 7/24 [=======>......................] - ETA: 2s - loss: 1.2913 - accuracy: 0.0000e+00"
     ]
    },
    {
     "ename": "KeyboardInterrupt",
     "evalue": "",
     "output_type": "error",
     "traceback": [
      "\u001b[1;31m---------------------------------------------------------------------------\u001b[0m",
      "\u001b[1;31mKeyboardInterrupt\u001b[0m                         Traceback (most recent call last)",
      "\u001b[1;32mc:\\Users\\leeev\\OneDrive\\Documents2\\GitHub\\subreddify\\ml_model.ipynb Cell 24'\u001b[0m in \u001b[0;36m<cell line: 1>\u001b[1;34m()\u001b[0m\n\u001b[1;32m----> <a href='vscode-notebook-cell:/c%3A/Users/leeev/OneDrive/Documents2/GitHub/subreddify/ml_model.ipynb#ch0000024?line=0'>1</a>\u001b[0m r \u001b[39m=\u001b[39m model\u001b[39m.\u001b[39;49mfit(\n\u001b[0;32m      <a href='vscode-notebook-cell:/c%3A/Users/leeev/OneDrive/Documents2/GitHub/subreddify/ml_model.ipynb#ch0000024?line=1'>2</a>\u001b[0m   data,\n\u001b[0;32m      <a href='vscode-notebook-cell:/c%3A/Users/leeev/OneDrive/Documents2/GitHub/subreddify/ml_model.ipynb#ch0000024?line=2'>3</a>\u001b[0m   targets,\n\u001b[0;32m      <a href='vscode-notebook-cell:/c%3A/Users/leeev/OneDrive/Documents2/GitHub/subreddify/ml_model.ipynb#ch0000024?line=3'>4</a>\u001b[0m   batch_size\u001b[39m=\u001b[39;49mBATCH_SIZE,\n\u001b[0;32m      <a href='vscode-notebook-cell:/c%3A/Users/leeev/OneDrive/Documents2/GitHub/subreddify/ml_model.ipynb#ch0000024?line=4'>5</a>\u001b[0m   epochs\u001b[39m=\u001b[39;49m\u001b[39m60\u001b[39;49m,\n\u001b[0;32m      <a href='vscode-notebook-cell:/c%3A/Users/leeev/OneDrive/Documents2/GitHub/subreddify/ml_model.ipynb#ch0000024?line=5'>6</a>\u001b[0m   validation_split\u001b[39m=\u001b[39;49mVALIDATION_SPLIT\n\u001b[0;32m      <a href='vscode-notebook-cell:/c%3A/Users/leeev/OneDrive/Documents2/GitHub/subreddify/ml_model.ipynb#ch0000024?line=6'>7</a>\u001b[0m )\n",
      "File \u001b[1;32mC:\\Python310\\lib\\site-packages\\keras\\utils\\traceback_utils.py:64\u001b[0m, in \u001b[0;36mfilter_traceback.<locals>.error_handler\u001b[1;34m(*args, **kwargs)\u001b[0m\n\u001b[0;32m     <a href='file:///c%3A/Python310/lib/site-packages/keras/utils/traceback_utils.py?line=61'>62</a>\u001b[0m filtered_tb \u001b[39m=\u001b[39m \u001b[39mNone\u001b[39;00m\n\u001b[0;32m     <a href='file:///c%3A/Python310/lib/site-packages/keras/utils/traceback_utils.py?line=62'>63</a>\u001b[0m \u001b[39mtry\u001b[39;00m:\n\u001b[1;32m---> <a href='file:///c%3A/Python310/lib/site-packages/keras/utils/traceback_utils.py?line=63'>64</a>\u001b[0m   \u001b[39mreturn\u001b[39;00m fn(\u001b[39m*\u001b[39margs, \u001b[39m*\u001b[39m\u001b[39m*\u001b[39mkwargs)\n\u001b[0;32m     <a href='file:///c%3A/Python310/lib/site-packages/keras/utils/traceback_utils.py?line=64'>65</a>\u001b[0m \u001b[39mexcept\u001b[39;00m \u001b[39mException\u001b[39;00m \u001b[39mas\u001b[39;00m e:  \u001b[39m# pylint: disable=broad-except\u001b[39;00m\n\u001b[0;32m     <a href='file:///c%3A/Python310/lib/site-packages/keras/utils/traceback_utils.py?line=65'>66</a>\u001b[0m   filtered_tb \u001b[39m=\u001b[39m _process_traceback_frames(e\u001b[39m.\u001b[39m__traceback__)\n",
      "File \u001b[1;32mC:\\Python310\\lib\\site-packages\\keras\\engine\\training.py:1384\u001b[0m, in \u001b[0;36mModel.fit\u001b[1;34m(self, x, y, batch_size, epochs, verbose, callbacks, validation_split, validation_data, shuffle, class_weight, sample_weight, initial_epoch, steps_per_epoch, validation_steps, validation_batch_size, validation_freq, max_queue_size, workers, use_multiprocessing)\u001b[0m\n\u001b[0;32m   <a href='file:///c%3A/Python310/lib/site-packages/keras/engine/training.py?line=1376'>1377</a>\u001b[0m \u001b[39mwith\u001b[39;00m tf\u001b[39m.\u001b[39mprofiler\u001b[39m.\u001b[39mexperimental\u001b[39m.\u001b[39mTrace(\n\u001b[0;32m   <a href='file:///c%3A/Python310/lib/site-packages/keras/engine/training.py?line=1377'>1378</a>\u001b[0m     \u001b[39m'\u001b[39m\u001b[39mtrain\u001b[39m\u001b[39m'\u001b[39m,\n\u001b[0;32m   <a href='file:///c%3A/Python310/lib/site-packages/keras/engine/training.py?line=1378'>1379</a>\u001b[0m     epoch_num\u001b[39m=\u001b[39mepoch,\n\u001b[0;32m   <a href='file:///c%3A/Python310/lib/site-packages/keras/engine/training.py?line=1379'>1380</a>\u001b[0m     step_num\u001b[39m=\u001b[39mstep,\n\u001b[0;32m   <a href='file:///c%3A/Python310/lib/site-packages/keras/engine/training.py?line=1380'>1381</a>\u001b[0m     batch_size\u001b[39m=\u001b[39mbatch_size,\n\u001b[0;32m   <a href='file:///c%3A/Python310/lib/site-packages/keras/engine/training.py?line=1381'>1382</a>\u001b[0m     _r\u001b[39m=\u001b[39m\u001b[39m1\u001b[39m):\n\u001b[0;32m   <a href='file:///c%3A/Python310/lib/site-packages/keras/engine/training.py?line=1382'>1383</a>\u001b[0m   callbacks\u001b[39m.\u001b[39mon_train_batch_begin(step)\n\u001b[1;32m-> <a href='file:///c%3A/Python310/lib/site-packages/keras/engine/training.py?line=1383'>1384</a>\u001b[0m   tmp_logs \u001b[39m=\u001b[39m \u001b[39mself\u001b[39;49m\u001b[39m.\u001b[39;49mtrain_function(iterator)\n\u001b[0;32m   <a href='file:///c%3A/Python310/lib/site-packages/keras/engine/training.py?line=1384'>1385</a>\u001b[0m   \u001b[39mif\u001b[39;00m data_handler\u001b[39m.\u001b[39mshould_sync:\n\u001b[0;32m   <a href='file:///c%3A/Python310/lib/site-packages/keras/engine/training.py?line=1385'>1386</a>\u001b[0m     context\u001b[39m.\u001b[39masync_wait()\n",
      "File \u001b[1;32mC:\\Python310\\lib\\site-packages\\tensorflow\\python\\util\\traceback_utils.py:150\u001b[0m, in \u001b[0;36mfilter_traceback.<locals>.error_handler\u001b[1;34m(*args, **kwargs)\u001b[0m\n\u001b[0;32m    <a href='file:///c%3A/Python310/lib/site-packages/tensorflow/python/util/traceback_utils.py?line=147'>148</a>\u001b[0m filtered_tb \u001b[39m=\u001b[39m \u001b[39mNone\u001b[39;00m\n\u001b[0;32m    <a href='file:///c%3A/Python310/lib/site-packages/tensorflow/python/util/traceback_utils.py?line=148'>149</a>\u001b[0m \u001b[39mtry\u001b[39;00m:\n\u001b[1;32m--> <a href='file:///c%3A/Python310/lib/site-packages/tensorflow/python/util/traceback_utils.py?line=149'>150</a>\u001b[0m   \u001b[39mreturn\u001b[39;00m fn(\u001b[39m*\u001b[39margs, \u001b[39m*\u001b[39m\u001b[39m*\u001b[39mkwargs)\n\u001b[0;32m    <a href='file:///c%3A/Python310/lib/site-packages/tensorflow/python/util/traceback_utils.py?line=150'>151</a>\u001b[0m \u001b[39mexcept\u001b[39;00m \u001b[39mException\u001b[39;00m \u001b[39mas\u001b[39;00m e:\n\u001b[0;32m    <a href='file:///c%3A/Python310/lib/site-packages/tensorflow/python/util/traceback_utils.py?line=151'>152</a>\u001b[0m   filtered_tb \u001b[39m=\u001b[39m _process_traceback_frames(e\u001b[39m.\u001b[39m__traceback__)\n",
      "File \u001b[1;32mC:\\Python310\\lib\\site-packages\\tensorflow\\python\\eager\\def_function.py:915\u001b[0m, in \u001b[0;36mFunction.__call__\u001b[1;34m(self, *args, **kwds)\u001b[0m\n\u001b[0;32m    <a href='file:///c%3A/Python310/lib/site-packages/tensorflow/python/eager/def_function.py?line=911'>912</a>\u001b[0m compiler \u001b[39m=\u001b[39m \u001b[39m\"\u001b[39m\u001b[39mxla\u001b[39m\u001b[39m\"\u001b[39m \u001b[39mif\u001b[39;00m \u001b[39mself\u001b[39m\u001b[39m.\u001b[39m_jit_compile \u001b[39melse\u001b[39;00m \u001b[39m\"\u001b[39m\u001b[39mnonXla\u001b[39m\u001b[39m\"\u001b[39m\n\u001b[0;32m    <a href='file:///c%3A/Python310/lib/site-packages/tensorflow/python/eager/def_function.py?line=913'>914</a>\u001b[0m \u001b[39mwith\u001b[39;00m OptionalXlaContext(\u001b[39mself\u001b[39m\u001b[39m.\u001b[39m_jit_compile):\n\u001b[1;32m--> <a href='file:///c%3A/Python310/lib/site-packages/tensorflow/python/eager/def_function.py?line=914'>915</a>\u001b[0m   result \u001b[39m=\u001b[39m \u001b[39mself\u001b[39m\u001b[39m.\u001b[39m_call(\u001b[39m*\u001b[39margs, \u001b[39m*\u001b[39m\u001b[39m*\u001b[39mkwds)\n\u001b[0;32m    <a href='file:///c%3A/Python310/lib/site-packages/tensorflow/python/eager/def_function.py?line=916'>917</a>\u001b[0m new_tracing_count \u001b[39m=\u001b[39m \u001b[39mself\u001b[39m\u001b[39m.\u001b[39mexperimental_get_tracing_count()\n\u001b[0;32m    <a href='file:///c%3A/Python310/lib/site-packages/tensorflow/python/eager/def_function.py?line=917'>918</a>\u001b[0m without_tracing \u001b[39m=\u001b[39m (tracing_count \u001b[39m==\u001b[39m new_tracing_count)\n",
      "File \u001b[1;32mC:\\Python310\\lib\\site-packages\\tensorflow\\python\\eager\\def_function.py:947\u001b[0m, in \u001b[0;36mFunction._call\u001b[1;34m(self, *args, **kwds)\u001b[0m\n\u001b[0;32m    <a href='file:///c%3A/Python310/lib/site-packages/tensorflow/python/eager/def_function.py?line=943'>944</a>\u001b[0m   \u001b[39mself\u001b[39m\u001b[39m.\u001b[39m_lock\u001b[39m.\u001b[39mrelease()\n\u001b[0;32m    <a href='file:///c%3A/Python310/lib/site-packages/tensorflow/python/eager/def_function.py?line=944'>945</a>\u001b[0m   \u001b[39m# In this case we have created variables on the first call, so we run the\u001b[39;00m\n\u001b[0;32m    <a href='file:///c%3A/Python310/lib/site-packages/tensorflow/python/eager/def_function.py?line=945'>946</a>\u001b[0m   \u001b[39m# defunned version which is guaranteed to never create variables.\u001b[39;00m\n\u001b[1;32m--> <a href='file:///c%3A/Python310/lib/site-packages/tensorflow/python/eager/def_function.py?line=946'>947</a>\u001b[0m   \u001b[39mreturn\u001b[39;00m \u001b[39mself\u001b[39m\u001b[39m.\u001b[39m_stateless_fn(\u001b[39m*\u001b[39margs, \u001b[39m*\u001b[39m\u001b[39m*\u001b[39mkwds)  \u001b[39m# pylint: disable=not-callable\u001b[39;00m\n\u001b[0;32m    <a href='file:///c%3A/Python310/lib/site-packages/tensorflow/python/eager/def_function.py?line=947'>948</a>\u001b[0m \u001b[39melif\u001b[39;00m \u001b[39mself\u001b[39m\u001b[39m.\u001b[39m_stateful_fn \u001b[39mis\u001b[39;00m \u001b[39mnot\u001b[39;00m \u001b[39mNone\u001b[39;00m:\n\u001b[0;32m    <a href='file:///c%3A/Python310/lib/site-packages/tensorflow/python/eager/def_function.py?line=948'>949</a>\u001b[0m   \u001b[39m# Release the lock early so that multiple threads can perform the call\u001b[39;00m\n\u001b[0;32m    <a href='file:///c%3A/Python310/lib/site-packages/tensorflow/python/eager/def_function.py?line=949'>950</a>\u001b[0m   \u001b[39m# in parallel.\u001b[39;00m\n\u001b[0;32m    <a href='file:///c%3A/Python310/lib/site-packages/tensorflow/python/eager/def_function.py?line=950'>951</a>\u001b[0m   \u001b[39mself\u001b[39m\u001b[39m.\u001b[39m_lock\u001b[39m.\u001b[39mrelease()\n",
      "File \u001b[1;32mC:\\Python310\\lib\\site-packages\\tensorflow\\python\\eager\\function.py:2956\u001b[0m, in \u001b[0;36mFunction.__call__\u001b[1;34m(self, *args, **kwargs)\u001b[0m\n\u001b[0;32m   <a href='file:///c%3A/Python310/lib/site-packages/tensorflow/python/eager/function.py?line=2952'>2953</a>\u001b[0m \u001b[39mwith\u001b[39;00m \u001b[39mself\u001b[39m\u001b[39m.\u001b[39m_lock:\n\u001b[0;32m   <a href='file:///c%3A/Python310/lib/site-packages/tensorflow/python/eager/function.py?line=2953'>2954</a>\u001b[0m   (graph_function,\n\u001b[0;32m   <a href='file:///c%3A/Python310/lib/site-packages/tensorflow/python/eager/function.py?line=2954'>2955</a>\u001b[0m    filtered_flat_args) \u001b[39m=\u001b[39m \u001b[39mself\u001b[39m\u001b[39m.\u001b[39m_maybe_define_function(args, kwargs)\n\u001b[1;32m-> <a href='file:///c%3A/Python310/lib/site-packages/tensorflow/python/eager/function.py?line=2955'>2956</a>\u001b[0m \u001b[39mreturn\u001b[39;00m graph_function\u001b[39m.\u001b[39;49m_call_flat(\n\u001b[0;32m   <a href='file:///c%3A/Python310/lib/site-packages/tensorflow/python/eager/function.py?line=2956'>2957</a>\u001b[0m     filtered_flat_args, captured_inputs\u001b[39m=\u001b[39;49mgraph_function\u001b[39m.\u001b[39;49mcaptured_inputs)\n",
      "File \u001b[1;32mC:\\Python310\\lib\\site-packages\\tensorflow\\python\\eager\\function.py:1853\u001b[0m, in \u001b[0;36mConcreteFunction._call_flat\u001b[1;34m(self, args, captured_inputs, cancellation_manager)\u001b[0m\n\u001b[0;32m   <a href='file:///c%3A/Python310/lib/site-packages/tensorflow/python/eager/function.py?line=1848'>1849</a>\u001b[0m possible_gradient_type \u001b[39m=\u001b[39m gradients_util\u001b[39m.\u001b[39mPossibleTapeGradientTypes(args)\n\u001b[0;32m   <a href='file:///c%3A/Python310/lib/site-packages/tensorflow/python/eager/function.py?line=1849'>1850</a>\u001b[0m \u001b[39mif\u001b[39;00m (possible_gradient_type \u001b[39m==\u001b[39m gradients_util\u001b[39m.\u001b[39mPOSSIBLE_GRADIENT_TYPES_NONE\n\u001b[0;32m   <a href='file:///c%3A/Python310/lib/site-packages/tensorflow/python/eager/function.py?line=1850'>1851</a>\u001b[0m     \u001b[39mand\u001b[39;00m executing_eagerly):\n\u001b[0;32m   <a href='file:///c%3A/Python310/lib/site-packages/tensorflow/python/eager/function.py?line=1851'>1852</a>\u001b[0m   \u001b[39m# No tape is watching; skip to running the function.\u001b[39;00m\n\u001b[1;32m-> <a href='file:///c%3A/Python310/lib/site-packages/tensorflow/python/eager/function.py?line=1852'>1853</a>\u001b[0m   \u001b[39mreturn\u001b[39;00m \u001b[39mself\u001b[39m\u001b[39m.\u001b[39m_build_call_outputs(\u001b[39mself\u001b[39;49m\u001b[39m.\u001b[39;49m_inference_function\u001b[39m.\u001b[39;49mcall(\n\u001b[0;32m   <a href='file:///c%3A/Python310/lib/site-packages/tensorflow/python/eager/function.py?line=1853'>1854</a>\u001b[0m       ctx, args, cancellation_manager\u001b[39m=\u001b[39;49mcancellation_manager))\n\u001b[0;32m   <a href='file:///c%3A/Python310/lib/site-packages/tensorflow/python/eager/function.py?line=1854'>1855</a>\u001b[0m forward_backward \u001b[39m=\u001b[39m \u001b[39mself\u001b[39m\u001b[39m.\u001b[39m_select_forward_and_backward_functions(\n\u001b[0;32m   <a href='file:///c%3A/Python310/lib/site-packages/tensorflow/python/eager/function.py?line=1855'>1856</a>\u001b[0m     args,\n\u001b[0;32m   <a href='file:///c%3A/Python310/lib/site-packages/tensorflow/python/eager/function.py?line=1856'>1857</a>\u001b[0m     possible_gradient_type,\n\u001b[0;32m   <a href='file:///c%3A/Python310/lib/site-packages/tensorflow/python/eager/function.py?line=1857'>1858</a>\u001b[0m     executing_eagerly)\n\u001b[0;32m   <a href='file:///c%3A/Python310/lib/site-packages/tensorflow/python/eager/function.py?line=1858'>1859</a>\u001b[0m forward_function, args_with_tangents \u001b[39m=\u001b[39m forward_backward\u001b[39m.\u001b[39mforward()\n",
      "File \u001b[1;32mC:\\Python310\\lib\\site-packages\\tensorflow\\python\\eager\\function.py:499\u001b[0m, in \u001b[0;36m_EagerDefinedFunction.call\u001b[1;34m(self, ctx, args, cancellation_manager)\u001b[0m\n\u001b[0;32m    <a href='file:///c%3A/Python310/lib/site-packages/tensorflow/python/eager/function.py?line=496'>497</a>\u001b[0m \u001b[39mwith\u001b[39;00m _InterpolateFunctionError(\u001b[39mself\u001b[39m):\n\u001b[0;32m    <a href='file:///c%3A/Python310/lib/site-packages/tensorflow/python/eager/function.py?line=497'>498</a>\u001b[0m   \u001b[39mif\u001b[39;00m cancellation_manager \u001b[39mis\u001b[39;00m \u001b[39mNone\u001b[39;00m:\n\u001b[1;32m--> <a href='file:///c%3A/Python310/lib/site-packages/tensorflow/python/eager/function.py?line=498'>499</a>\u001b[0m     outputs \u001b[39m=\u001b[39m execute\u001b[39m.\u001b[39;49mexecute(\n\u001b[0;32m    <a href='file:///c%3A/Python310/lib/site-packages/tensorflow/python/eager/function.py?line=499'>500</a>\u001b[0m         \u001b[39mstr\u001b[39;49m(\u001b[39mself\u001b[39;49m\u001b[39m.\u001b[39;49msignature\u001b[39m.\u001b[39;49mname),\n\u001b[0;32m    <a href='file:///c%3A/Python310/lib/site-packages/tensorflow/python/eager/function.py?line=500'>501</a>\u001b[0m         num_outputs\u001b[39m=\u001b[39;49m\u001b[39mself\u001b[39;49m\u001b[39m.\u001b[39;49m_num_outputs,\n\u001b[0;32m    <a href='file:///c%3A/Python310/lib/site-packages/tensorflow/python/eager/function.py?line=501'>502</a>\u001b[0m         inputs\u001b[39m=\u001b[39;49margs,\n\u001b[0;32m    <a href='file:///c%3A/Python310/lib/site-packages/tensorflow/python/eager/function.py?line=502'>503</a>\u001b[0m         attrs\u001b[39m=\u001b[39;49mattrs,\n\u001b[0;32m    <a href='file:///c%3A/Python310/lib/site-packages/tensorflow/python/eager/function.py?line=503'>504</a>\u001b[0m         ctx\u001b[39m=\u001b[39;49mctx)\n\u001b[0;32m    <a href='file:///c%3A/Python310/lib/site-packages/tensorflow/python/eager/function.py?line=504'>505</a>\u001b[0m   \u001b[39melse\u001b[39;00m:\n\u001b[0;32m    <a href='file:///c%3A/Python310/lib/site-packages/tensorflow/python/eager/function.py?line=505'>506</a>\u001b[0m     outputs \u001b[39m=\u001b[39m execute\u001b[39m.\u001b[39mexecute_with_cancellation(\n\u001b[0;32m    <a href='file:///c%3A/Python310/lib/site-packages/tensorflow/python/eager/function.py?line=506'>507</a>\u001b[0m         \u001b[39mstr\u001b[39m(\u001b[39mself\u001b[39m\u001b[39m.\u001b[39msignature\u001b[39m.\u001b[39mname),\n\u001b[0;32m    <a href='file:///c%3A/Python310/lib/site-packages/tensorflow/python/eager/function.py?line=507'>508</a>\u001b[0m         num_outputs\u001b[39m=\u001b[39m\u001b[39mself\u001b[39m\u001b[39m.\u001b[39m_num_outputs,\n\u001b[1;32m   (...)\u001b[0m\n\u001b[0;32m    <a href='file:///c%3A/Python310/lib/site-packages/tensorflow/python/eager/function.py?line=510'>511</a>\u001b[0m         ctx\u001b[39m=\u001b[39mctx,\n\u001b[0;32m    <a href='file:///c%3A/Python310/lib/site-packages/tensorflow/python/eager/function.py?line=511'>512</a>\u001b[0m         cancellation_manager\u001b[39m=\u001b[39mcancellation_manager)\n",
      "File \u001b[1;32mC:\\Python310\\lib\\site-packages\\tensorflow\\python\\eager\\execute.py:54\u001b[0m, in \u001b[0;36mquick_execute\u001b[1;34m(op_name, num_outputs, inputs, attrs, ctx, name)\u001b[0m\n\u001b[0;32m     <a href='file:///c%3A/Python310/lib/site-packages/tensorflow/python/eager/execute.py?line=51'>52</a>\u001b[0m \u001b[39mtry\u001b[39;00m:\n\u001b[0;32m     <a href='file:///c%3A/Python310/lib/site-packages/tensorflow/python/eager/execute.py?line=52'>53</a>\u001b[0m   ctx\u001b[39m.\u001b[39mensure_initialized()\n\u001b[1;32m---> <a href='file:///c%3A/Python310/lib/site-packages/tensorflow/python/eager/execute.py?line=53'>54</a>\u001b[0m   tensors \u001b[39m=\u001b[39m pywrap_tfe\u001b[39m.\u001b[39;49mTFE_Py_Execute(ctx\u001b[39m.\u001b[39;49m_handle, device_name, op_name,\n\u001b[0;32m     <a href='file:///c%3A/Python310/lib/site-packages/tensorflow/python/eager/execute.py?line=54'>55</a>\u001b[0m                                       inputs, attrs, num_outputs)\n\u001b[0;32m     <a href='file:///c%3A/Python310/lib/site-packages/tensorflow/python/eager/execute.py?line=55'>56</a>\u001b[0m \u001b[39mexcept\u001b[39;00m core\u001b[39m.\u001b[39m_NotOkStatusException \u001b[39mas\u001b[39;00m e:\n\u001b[0;32m     <a href='file:///c%3A/Python310/lib/site-packages/tensorflow/python/eager/execute.py?line=56'>57</a>\u001b[0m   \u001b[39mif\u001b[39;00m name \u001b[39mis\u001b[39;00m \u001b[39mnot\u001b[39;00m \u001b[39mNone\u001b[39;00m:\n",
      "\u001b[1;31mKeyboardInterrupt\u001b[0m: "
     ]
    }
   ],
   "source": [
    "r = model.fit(\n",
    "  data,\n",
    "  targets,\n",
    "  batch_size=BATCH_SIZE,\n",
    "  epochs=60,\n",
    "  validation_split=VALIDATION_SPLIT\n",
    ")"
   ]
  },
  {
   "cell_type": "code",
   "execution_count": null,
   "metadata": {},
   "outputs": [
    {
     "data": {
      "text/plain": [
       "<matplotlib.legend.Legend at 0x2081bd00f40>"
      ]
     },
     "execution_count": 338,
     "metadata": {},
     "output_type": "execute_result"
    },
    {
     "data": {
      "image/png": "[encoded data removed]",
      "text/plain": [
       "<Figure size 432x288 with 1 Axes>"
      ]
     },
     "metadata": {
      "needs_background": "light"
     },
     "output_type": "display_data"
    }
   ],
   "source": [
    "acc = r.history['auc_9']\n",
    "val_acc = r.history['val_auc_9']\n",
    "loss = r.history['loss']\n",
    "val_loss = r.history['val_loss']\n",
    "plt.plot(val_acc,label=\"validation accuracy\")\n",
    "plt.legend()"
   ]
  },
  {
   "cell_type": "code",
   "execution_count": null,
   "metadata": {},
   "outputs": [
    {
     "data": {
      "text/plain": [
       "<matplotlib.legend.Legend at 0x2081bcafd00>"
      ]
     },
     "execution_count": 339,
     "metadata": {},
     "output_type": "execute_result"
    },
    {
     "data": {
      "image/png": "[encoded data removed]",
      "text/plain": [
       "<Figure size 432x288 with 1 Axes>"
      ]
     },
     "metadata": {
      "needs_background": "light"
     },
     "output_type": "display_data"
    }
   ],
   "source": [
    "plt.plot(val_loss,label=\"validation loss\")\n",
    "plt.legend()"
   ]
  },
  {
   "cell_type": "code",
   "execution_count": null,
   "metadata": {},
   "outputs": [
    {
     "name": "stdout",
     "output_type": "stream",
     "text": [
      "0.15671366 amitheasshole\n",
      "0.00015318394 todayilearned\n",
      "0.06224823 explainlikeimfive\n",
      "0.9195009 news\n",
      "0.63325363 askreddit\n",
      "0.02682513 cornell\n"
     ]
    }
   ],
   "source": [
    "test_text = \"Vladmir Putin Barack Obama Biden\"\n",
    "test_seq = tokenizer.texts_to_sequences(test_text)\n",
    "test_pad = pad_sequences(test_seq,maxlen=MAX_SEQUENCE_LENGTH)\n",
    "subreddits = model.predict(test_pad)[0]\n",
    "for i in range(0,6):\n",
    "    print(subreddits[i] ,possible_labels[i])\n"
   ]
  },
  {
   "cell_type": "code",
   "execution_count": null,
   "metadata": {},
   "outputs": [],
   "source": [
    "from tensorflow.keras.optimizers import SGD\n",
    "from keras import Sequential\n",
    "from keras.layers import Dense, Activation, Embedding, Flatten, GlobalMaxPool1D, Dropout, Conv1D\n",
    "filter_length = 300\n",
    "model = Sequential()\n",
    "model.add(Embedding(MAX_VOCAB_SIZE, 128, input_length=MAX_SEQUENCE_LENGTH))\n",
    "model.add(Flatten())\n",
    "model.add(Dense(1024, kernel_regularizer=regularizers.L1L2(l1=0, l2=0), activation='relu'))\n",
    "model.add(Dense(1024, kernel_regularizer=regularizers.L1L2(l1=0, l2=0), activation='relu'))\n",
    "model.add(Dense(len(possible_labels), kernel_regularizer=regularizers.L1L2(l1=0, l2=0)))\n",
    "model.add(Activation('softmax'))\n",
    "model.compile(optimizer=SGD(learning_rate=1e-3, momentum=0.5), loss='categorical_crossentropy', metrics=[tf.keras.metrics.Accuracy()])"
   ]
  },
  {
   "cell_type": "code",
   "execution_count": null,
   "metadata": {},
   "outputs": [
    {
     "name": "stdout",
     "output_type": "stream",
     "text": [
      "Epoch 1/20\n",
      "24/24 [==============================] - 2s 82ms/step - loss: 1.7926 - accuracy: 0.0000e+00 - val_loss: 1.7841 - val_accuracy: 0.0000e+00\n",
      "Epoch 2/20\n",
      "24/24 [==============================] - 2s 75ms/step - loss: 1.7874 - accuracy: 0.0000e+00 - val_loss: 1.8006 - val_accuracy: 0.0000e+00\n",
      "Epoch 3/20\n",
      "24/24 [==============================] - 2s 78ms/step - loss: 1.7824 - accuracy: 0.0000e+00 - val_loss: 1.8167 - val_accuracy: 0.0000e+00\n",
      "Epoch 4/20\n",
      "24/24 [==============================] - 2s 79ms/step - loss: 1.7776 - accuracy: 0.0000e+00 - val_loss: 1.8327 - val_accuracy: 0.0000e+00\n",
      "Epoch 5/20\n",
      "24/24 [==============================] - 2s 79ms/step - loss: 1.7729 - accuracy: 0.0000e+00 - val_loss: 1.8484 - val_accuracy: 0.0000e+00\n",
      "Epoch 6/20\n",
      "24/24 [==============================] - 2s 87ms/step - loss: 1.7683 - accuracy: 0.0000e+00 - val_loss: 1.8639 - val_accuracy: 0.0000e+00\n",
      "Epoch 7/20\n",
      "24/24 [==============================] - 2s 84ms/step - loss: 1.7638 - accuracy: 0.0000e+00 - val_loss: 1.8793 - val_accuracy: 0.0000e+00\n",
      "Epoch 8/20\n",
      "24/24 [==============================] - 2s 81ms/step - loss: 1.7594 - accuracy: 0.0000e+00 - val_loss: 1.8946 - val_accuracy: 0.0000e+00\n",
      "Epoch 9/20\n",
      "24/24 [==============================] - 2s 78ms/step - loss: 1.7552 - accuracy: 0.0000e+00 - val_loss: 1.9097 - val_accuracy: 0.0000e+00\n",
      "Epoch 10/20\n",
      "24/24 [==============================] - 2s 80ms/step - loss: 1.7509 - accuracy: 0.0000e+00 - val_loss: 1.9248 - val_accuracy: 0.0000e+00\n",
      "Epoch 11/20\n",
      "24/24 [==============================] - 2s 83ms/step - loss: 1.7468 - accuracy: 0.0000e+00 - val_loss: 1.9400 - val_accuracy: 0.0000e+00\n",
      "Epoch 12/20\n",
      "24/24 [==============================] - 2s 82ms/step - loss: 1.7426 - accuracy: 0.0000e+00 - val_loss: 1.9550 - val_accuracy: 0.0000e+00\n",
      "Epoch 13/20\n",
      "24/24 [==============================] - 2s 84ms/step - loss: 1.7386 - accuracy: 0.0000e+00 - val_loss: 1.9701 - val_accuracy: 0.0000e+00\n",
      "Epoch 14/20\n",
      "24/24 [==============================] - 2s 87ms/step - loss: 1.7345 - accuracy: 0.0000e+00 - val_loss: 1.9852 - val_accuracy: 0.0000e+00\n",
      "Epoch 15/20\n",
      "24/24 [==============================] - 2s 86ms/step - loss: 1.7305 - accuracy: 0.0000e+00 - val_loss: 2.0004 - val_accuracy: 0.0000e+00\n",
      "Epoch 16/20\n",
      "24/24 [==============================] - 2s 89ms/step - loss: 1.7265 - accuracy: 0.0000e+00 - val_loss: 2.0157 - val_accuracy: 0.0000e+00\n",
      "Epoch 17/20\n",
      "24/24 [==============================] - 2s 87ms/step - loss: 1.7225 - accuracy: 0.0000e+00 - val_loss: 2.0311 - val_accuracy: 0.0000e+00\n",
      "Epoch 18/20\n",
      "24/24 [==============================] - 2s 83ms/step - loss: 1.7186 - accuracy: 0.0000e+00 - val_loss: 2.0465 - val_accuracy: 0.0000e+00\n",
      "Epoch 19/20\n",
      "24/24 [==============================] - 2s 83ms/step - loss: 1.7146 - accuracy: 0.0000e+00 - val_loss: 2.0621 - val_accuracy: 0.0000e+00\n",
      "Epoch 20/20\n",
      "24/24 [==============================] - 2s 86ms/step - loss: 1.7106 - accuracy: 0.0000e+00 - val_loss: 2.0778 - val_accuracy: 0.0000e+00\n"
     ]
    }
   ],
   "source": [
    "r = model.fit(\n",
    "  data,\n",
    "  targets,\n",
    "  batch_size=BATCH_SIZE,\n",
    "  epochs=EPOCHS,\n",
    "  validation_split=VALIDATION_SPLIT\n",
    ")"
   ]
  },
  {
   "cell_type": "code",
   "execution_count": null,
   "metadata": {},
   "outputs": [
    {
     "data": {
      "text/plain": [
       "array([[5.9057558e-01, 1.9254258e-01, 1.0769456e-01, 2.7539555e-02,\n",
       "        7.3988631e-02, 7.6590688e-03],\n",
       "       [1.0244011e-01, 7.2670758e-02, 4.0564093e-01, 1.4615299e-01,\n",
       "        2.7197471e-01, 1.1205078e-03],\n",
       "       [7.0337605e-01, 3.5947617e-03, 4.2458475e-02, 1.9327883e-01,\n",
       "        5.7123974e-02, 1.6783753e-04],\n",
       "       ...,\n",
       "       [2.3350449e-01, 8.5974531e-03, 1.2069647e-01, 4.9033317e-01,\n",
       "        1.4656126e-01, 3.0713264e-04],\n",
       "       [1.2542683e-01, 5.2054827e-03, 1.4830206e-01, 4.9780041e-01,\n",
       "        2.2298378e-01, 2.8144330e-04],\n",
       "       [1.5921834e-01, 1.2794484e-01, 4.0015128e-01, 9.9179201e-02,\n",
       "        2.1064202e-01, 2.8642747e-03]], dtype=float32)"
      ]
     },
     "execution_count": 393,
     "metadata": {},
     "output_type": "execute_result"
    }
   ],
   "source": [
    "model.predict(data)"
   ]
  },
  {
   "cell_type": "code",
   "execution_count": null,
   "metadata": {},
   "outputs": [],
   "source": []
  }
 ],
 "metadata": {
  "interpreter": {
   "hash": "2be5faf79681da6f2a61fdfdd5405d65d042280f7fba6178067603e3a2925119"
  },
  "kernelspec": {
   "display_name": "Python 3.10.3 64-bit",
   "language": "python",
   "name": "python3"
  },
  "language_info": {
   "codemirror_mode": {
    "name": "ipython",
    "version": 3
   },
   "file_extension": ".py",
   "mimetype": "text/x-python",
   "name": "python",
   "nbconvert_exporter": "python",
   "pygments_lexer": "ipython3",
   "version": "3.10.3"
  },
  "orig_nbformat": 4
 },
 "nbformat": 4,
 "nbformat_minor": 2
}
