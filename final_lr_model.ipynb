{
 "cells": [
  {
   "cell_type": "code",
   "execution_count": 1,
   "metadata": {},
   "outputs": [],
   "source": [
    "import os\n",
    "import numpy as np\n",
    "import pandas as pd\n",
    "import matplotlib.pyplot as plt\n",
    "from sklearn import model_selection\n",
    "from sklearn import linear_model\n",
    "from sklearn.feature_extraction.text import CountVectorizer"
   ]
  },
  {
   "cell_type": "markdown",
   "metadata": {},
   "source": [
    "# Bag of Words Model"
   ]
  },
  {
   "cell_type": "code",
   "execution_count": 2,
   "metadata": {},
   "outputs": [
    {
     "data": {
      "text/html": [
       "<div>\n",
       "<style scoped>\n",
       "    .dataframe tbody tr th:only-of-type {\n",
       "        vertical-align: middle;\n",
       "    }\n",
       "\n",
       "    .dataframe tbody tr th {\n",
       "        vertical-align: top;\n",
       "    }\n",
       "\n",
       "    .dataframe thead th {\n",
       "        text-align: right;\n",
       "    }\n",
       "</style>\n",
       "<table border=\"1\" class=\"dataframe\">\n",
       "  <thead>\n",
       "    <tr style=\"text-align: right;\">\n",
       "      <th></th>\n",
       "      <th>Unnamed: 0</th>\n",
       "      <th>amitheasshole</th>\n",
       "      <th>todayilearned</th>\n",
       "      <th>explainlikeimfive</th>\n",
       "      <th>news</th>\n",
       "      <th>askreddit</th>\n",
       "      <th>cornell</th>\n",
       "    </tr>\n",
       "  </thead>\n",
       "  <tbody>\n",
       "    <tr>\n",
       "      <th>0</th>\n",
       "      <td>0</td>\n",
       "      <td>AITA for telling my wife the lock on my daught...</td>\n",
       "      <td>TIL that slaveholders in the US knew that ensl...</td>\n",
       "      <td>ELI5:How after 5000 years of humanity survivin...</td>\n",
       "      <td>Joe Biden elected president of the United States</td>\n",
       "      <td>People who haven't pooped in 2019 yet, why are...</td>\n",
       "      <td>Cornell Alert: Anyone know whats going on?</td>\n",
       "    </tr>\n",
       "    <tr>\n",
       "      <th>1</th>\n",
       "      <td>1</td>\n",
       "      <td>META: This sub is moving towards a value syste...</td>\n",
       "      <td>TIL During an interview with Stephen Hawking, ...</td>\n",
       "      <td>We call upon Reddit to take action against the...</td>\n",
       "      <td>Chauvin found guilty of murder, manslaughter i...</td>\n",
       "      <td>How would you feel about Reddit adding 3 NSFW ...</td>\n",
       "      <td>I threw up in my mask and had to continue taki...</td>\n",
       "    </tr>\n",
       "    <tr>\n",
       "      <th>2</th>\n",
       "      <td>2</td>\n",
       "      <td>UPDATE, AITA for despising my mentally handica...</td>\n",
       "      <td>TIL Genghis Khan would marry off a daughter to...</td>\n",
       "      <td>ELI5: How did we get to the point where laptop...</td>\n",
       "      <td>President Donald Trump says he has tested posi...</td>\n",
       "      <td>Would you watch a show where a billionaire CEO...</td>\n",
       "      <td>this professor gets it</td>\n",
       "    </tr>\n",
       "    <tr>\n",
       "      <th>3</th>\n",
       "      <td>3</td>\n",
       "      <td>AITA For suing my girlfriend after she had my ...</td>\n",
       "      <td>TIL the FBI has struggled to hire hackers beca...</td>\n",
       "      <td>ELI5: Stock Market Megathread</td>\n",
       "      <td>Blizzard Employees Staged a Walkout After the ...</td>\n",
       "      <td>What if God came down one day and said \"It's p...</td>\n",
       "      <td>An actual summary of the 97 page report</td>\n",
       "    </tr>\n",
       "    <tr>\n",
       "      <th>4</th>\n",
       "      <td>4</td>\n",
       "      <td>UPDATE: AITA for wanting to go to the funeral ...</td>\n",
       "      <td>TIL After Col. Shaw died in battle, Confederat...</td>\n",
       "      <td>ELI5: So how does the the human brain ignore t...</td>\n",
       "      <td>Trump has left the White House for the last ti...</td>\n",
       "      <td>How would you feel about a feature where if so...</td>\n",
       "      <td>I am a New Bus!</td>\n",
       "    </tr>\n",
       "  </tbody>\n",
       "</table>\n",
       "</div>"
      ],
      "text/plain": [
       "   Unnamed: 0                                      amitheasshole  \\\n",
       "0           0  AITA for telling my wife the lock on my daught...   \n",
       "1           1  META: This sub is moving towards a value syste...   \n",
       "2           2  UPDATE, AITA for despising my mentally handica...   \n",
       "3           3  AITA For suing my girlfriend after she had my ...   \n",
       "4           4  UPDATE: AITA for wanting to go to the funeral ...   \n",
       "\n",
       "                                       todayilearned  \\\n",
       "0  TIL that slaveholders in the US knew that ensl...   \n",
       "1  TIL During an interview with Stephen Hawking, ...   \n",
       "2  TIL Genghis Khan would marry off a daughter to...   \n",
       "3  TIL the FBI has struggled to hire hackers beca...   \n",
       "4  TIL After Col. Shaw died in battle, Confederat...   \n",
       "\n",
       "                                   explainlikeimfive  \\\n",
       "0  ELI5:How after 5000 years of humanity survivin...   \n",
       "1  We call upon Reddit to take action against the...   \n",
       "2  ELI5: How did we get to the point where laptop...   \n",
       "3                      ELI5: Stock Market Megathread   \n",
       "4  ELI5: So how does the the human brain ignore t...   \n",
       "\n",
       "                                                news  \\\n",
       "0   Joe Biden elected president of the United States   \n",
       "1  Chauvin found guilty of murder, manslaughter i...   \n",
       "2  President Donald Trump says he has tested posi...   \n",
       "3  Blizzard Employees Staged a Walkout After the ...   \n",
       "4  Trump has left the White House for the last ti...   \n",
       "\n",
       "                                           askreddit  \\\n",
       "0  People who haven't pooped in 2019 yet, why are...   \n",
       "1  How would you feel about Reddit adding 3 NSFW ...   \n",
       "2  Would you watch a show where a billionaire CEO...   \n",
       "3  What if God came down one day and said \"It's p...   \n",
       "4  How would you feel about a feature where if so...   \n",
       "\n",
       "                                             cornell  \n",
       "0         Cornell Alert: Anyone know whats going on?  \n",
       "1  I threw up in my mask and had to continue taki...  \n",
       "2                             this professor gets it  \n",
       "3            An actual summary of the 97 page report  \n",
       "4                                    I am a New Bus!  "
      ]
     },
     "execution_count": 2,
     "metadata": {},
     "output_type": "execute_result"
    }
   ],
   "source": [
    "df = pd.read_csv(\"data/curated_extreme_data.csv\")\n",
    "df.head()"
   ]
  },
  {
   "cell_type": "code",
   "execution_count": 3,
   "metadata": {},
   "outputs": [
    {
     "data": {
      "text/html": [
       "<div>\n",
       "<style scoped>\n",
       "    .dataframe tbody tr th:only-of-type {\n",
       "        vertical-align: middle;\n",
       "    }\n",
       "\n",
       "    .dataframe tbody tr th {\n",
       "        vertical-align: top;\n",
       "    }\n",
       "\n",
       "    .dataframe thead th {\n",
       "        text-align: right;\n",
       "    }\n",
       "</style>\n",
       "<table border=\"1\" class=\"dataframe\">\n",
       "  <thead>\n",
       "    <tr style=\"text-align: right;\">\n",
       "      <th></th>\n",
       "      <th>title</th>\n",
       "      <th>index</th>\n",
       "    </tr>\n",
       "  </thead>\n",
       "  <tbody>\n",
       "    <tr>\n",
       "      <th>0</th>\n",
       "      <td>AITA for telling my wife the lock on my daught...</td>\n",
       "      <td>0.0</td>\n",
       "    </tr>\n",
       "    <tr>\n",
       "      <th>1</th>\n",
       "      <td>META: This sub is moving towards a value syste...</td>\n",
       "      <td>0.0</td>\n",
       "    </tr>\n",
       "    <tr>\n",
       "      <th>2</th>\n",
       "      <td>UPDATE, AITA for despising my mentally handica...</td>\n",
       "      <td>0.0</td>\n",
       "    </tr>\n",
       "    <tr>\n",
       "      <th>3</th>\n",
       "      <td>AITA For suing my girlfriend after she had my ...</td>\n",
       "      <td>0.0</td>\n",
       "    </tr>\n",
       "    <tr>\n",
       "      <th>4</th>\n",
       "      <td>UPDATE: AITA for wanting to go to the funeral ...</td>\n",
       "      <td>0.0</td>\n",
       "    </tr>\n",
       "  </tbody>\n",
       "</table>\n",
       "</div>"
      ],
      "text/plain": [
       "                                               title  index\n",
       "0  AITA for telling my wife the lock on my daught...    0.0\n",
       "1  META: This sub is moving towards a value syste...    0.0\n",
       "2  UPDATE, AITA for despising my mentally handica...    0.0\n",
       "3  AITA For suing my girlfriend after she had my ...    0.0\n",
       "4  UPDATE: AITA for wanting to go to the funeral ...    0.0"
      ]
     },
     "execution_count": 3,
     "metadata": {},
     "output_type": "execute_result"
    }
   ],
   "source": [
    "possible_labels = ['amitheasshole','todayilearned','explainlikeimfive','news','askreddit','cornell']\n",
    "\n",
    "train = pd.DataFrame()\n",
    "train['title'] = []\n",
    "train['index'] = []\n",
    "\n",
    "for label in df.columns[1:]:\n",
    "    for sentence in df[label]:\n",
    "        train = train.append({'title': sentence, 'index':possible_labels.index(label)},ignore_index=True)\n",
    "        train = train.fillna(0)\n",
    "\n",
    "train.head()"
   ]
  },
  {
   "cell_type": "code",
   "execution_count": 4,
   "metadata": {},
   "outputs": [
    {
     "name": "stdout",
     "output_type": "stream",
     "text": [
      "X_train dimension=  (4795,)\n",
      "X_test dimension=  (1199,)\n",
      "y_train dimension=  (4795,)\n",
      "y_train dimension=  (1199,)\n"
     ]
    }
   ],
   "source": [
    "vectorizer = CountVectorizer()\n",
    "\n",
    "X = train['title']\n",
    "y = train['index']\n",
    "\n",
    "X = np.array([item if not isinstance(item, int) else str(item) for item in X])\n",
    "\n",
    "X_train, X_test, y_train, y_test = model_selection.train_test_split(X, y, test_size= 0.2, random_state = 1)\n",
    "\n",
    "print('X_train dimension= ', X_train.shape)\n",
    "print('X_test dimension= ', X_test.shape)\n",
    "print('y_train dimension= ', y_train.shape)\n",
    "print('y_train dimension= ', y_test.shape)\n",
    "\n",
    "X_train = vectorizer.fit_transform(X_train)\n",
    "X_test = vectorizer.transform(X_test)"
   ]
  },
  {
   "cell_type": "code",
   "execution_count": 5,
   "metadata": {},
   "outputs": [
    {
     "data": {
      "text/plain": [
       "LogisticRegression(multi_class='ovr', solver='liblinear')"
      ]
     },
     "execution_count": 5,
     "metadata": {},
     "output_type": "execute_result"
    }
   ],
   "source": [
    "lm = linear_model.LogisticRegression(multi_class='ovr', solver='liblinear')\n",
    "lm.fit(X_train, y_train)"
   ]
  },
  {
   "cell_type": "code",
   "execution_count": 6,
   "metadata": {},
   "outputs": [
    {
     "data": {
      "text/plain": [
       "0.957464553794829"
      ]
     },
     "execution_count": 6,
     "metadata": {},
     "output_type": "execute_result"
    }
   ],
   "source": [
    "(lm.predict(X_test) == y_test).mean()"
   ]
  },
  {
   "cell_type": "code",
   "execution_count": 7,
   "metadata": {},
   "outputs": [
    {
     "name": "stdout",
     "output_type": "stream",
     "text": [
      "Message: Martha Pollack sleeps in Uris\n",
      "cornell\n"
     ]
    }
   ],
   "source": [
    "test_title = \"Martha Pollack sleeps in Uris\"\n",
    "index = int(lm.predict(vectorizer.transform([test_title]))[0])\n",
    "print('Message: ' + test_title)\n",
    "print(possible_labels[index])"
   ]
  }
 ],
 "metadata": {
  "interpreter": {
   "hash": "2be5faf79681da6f2a61fdfdd5405d65d042280f7fba6178067603e3a2925119"
  },
  "kernelspec": {
   "display_name": "Python 3.10.3 64-bit",
   "language": "python",
   "name": "python3"
  },
  "language_info": {
   "codemirror_mode": {
    "name": "ipython",
    "version": 3
   },
   "file_extension": ".py",
   "mimetype": "text/x-python",
   "name": "python",
   "nbconvert_exporter": "python",
   "pygments_lexer": "ipython3",
   "version": "3.10.3"
  },
  "orig_nbformat": 4
 },
 "nbformat": 4,
 "nbformat_minor": 2
}
